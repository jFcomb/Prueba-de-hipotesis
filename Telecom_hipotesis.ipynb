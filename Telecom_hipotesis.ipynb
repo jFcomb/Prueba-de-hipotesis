{
 "cells": [
  {
   "cell_type": "markdown",
   "metadata": {
    "id": "hCXXz3ZjZD9E"
   },
   "source": [
    "# Contenido\n",
    "\n",
    "* [Introducción](#intro)\n",
    "    * [objetivo](#objetive)\n",
    "* [Descripción de datos](#description)\n",
    "    * [Dataframe plans_data](#d_plans)\n",
    "    * [Dataframe users_data](#d_users)\n",
    "        * [Corrrección de datos](#c_5)\n",
    "        * [Enriquecimiento de datos](#e_5)\n",
    "    * [Dataframe calls_data](#d_calls)\n",
    "        * [Corrrección de datos](#c_1)\n",
    "        * [Enriquecimiento de datos](#e_1)\n",
    "    * [Dataframe internet_data](#d_internet)\n",
    "        * [Corrrección de datos](#c_2)\n",
    "        * [Enriquecimiento de datos](#e_2)\n",
    "    * [Dataframe messages_data](#d_messages)\n",
    "        * [Corrrección de datos](#c_3)\n",
    "        * [Enriquecimiento de datos](#e_3)\n",
    "* [Estudio de las condiciones del plan](#plan)\n",
    "* [Agregar datos por usuario](#datos)\n",
    "* [Estudio de comportamiento del usuario](#estudio)\n",
    "    * [Llamadas](#llamadas)\n",
    "    * [Mensajes](#mensajes)\n",
    "    * [Internet](#internet)\n",
    "    * [Ingreso](#ingreso)\n",
    "    * [Conclusión](#conclution_1)\n",
    "* [Comprobación de hipótesis](#hipo)\n",
    "    * [Hipótesis 1](#hip_1)\n",
    "    * [Hipótesis 2](#hip_2)\n",
    "* [Conclusión General](#final_conclution)\n"
   ]
  },
  {
   "cell_type": "markdown",
   "metadata": {
    "id": "tXnIkmFlY4-i"
   },
   "source": [
    "## Introducción <a id='intro'></a> \n",
    "\n",
    "Megaline empresa de telecomunicaciones ofrece a sus clientes dos tarifas de prepago: \"surf\" y \"ultimate\". El departamento comercial de la empresa quiere saber en cual tarifa tiene mejor ingreso para invertir en publicidad.\n",
    "Para ellos nos proporciona distintos cvs con información del 2018 acerca de la duración de llamadas, mensajes enviados, información del usuario y la cantidad de datos gastados mes a mes.\n",
    "\n",
    "Contamos con 5 tablas:\n",
    "\n",
    "* megaline_calls.csv\n",
    "* megaline_internet.csv\n",
    "* megaline_messages.csv\n",
    "* megaline_plans.csv\n",
    "* megaline_users.csv\n",
    "\n",
    "### Objetivos<a id = 'objetive'></a>\n",
    "\n",
    "1. Determinar que tárifa deja más ingresos\n",
    "2. Comprobar la hipótesis de si el ingreso por las tarifas surf y ultimate difiere\n",
    "3. Comprobar la hipótesis de si el ingreso promedio de los usuarios de Nueva Yory y Nueva Jersey es diferente a la de otras regiones\n"
   ]
  },
  {
   "cell_type": "markdown",
   "metadata": {
    "id": "Z_pC4hSBO2vx"
   },
   "source": [
    "Pasos a seguir:\n",
    "\n",
    "1. Cargar nuestras 5 tablas y guardarlas en una variable, se estudiaran si la tabla contiene errores, tiene valores nulos,duplicados, errores en los nombres etc.\n",
    "2. Se realará un nuevo dataframe uniendo los datos de usuario_id, número de llamadas, duración de las llamadas, número de mensajes, cantidad de datos utilizados,ciudad de cada usuario y por último se obtendrá la ganancia que deja el usuario dependiendo de como usa su plan de acuerdo a las políticas de la empresa\n",
    "3. Realización de graficas en donde podamos ver relaciones y nos ayude a poder responder nuestras preguntas\n",
    "4. Comprobaremos las hipótesis planteadas \n",
    "\n",
    "Para ello se crearan funciones según sea necesario para evitar repetir mucho código.\n",
    "\n"
   ]
  },
  {
   "cell_type": "markdown",
   "metadata": {
    "id": "ZUzhsCGLY4-o"
   },
   "source": [
    "## **Descripción de datos<a id= 'description'></a>**"
   ]
  },
  {
   "cell_type": "code",
   "execution_count": 2,
   "metadata": {
    "id": "JIT-5spiY4-p"
   },
   "outputs": [],
   "source": [
    "# Librerás necesarias\n",
    "import pandas as pd\n",
    "import numpy as np\n",
    "import matplotlib.pyplot as plt\n",
    "import scipy.stats as st"
   ]
  },
  {
   "cell_type": "markdown",
   "metadata": {
    "id": "76lC0qNcY4-s"
   },
   "source": [
    "\n",
    "A continuación cargaremo nuestros dataframes, veremos la descripción de cada uno y observaremos una pequeña muestra. "
   ]
  },
  {
   "cell_type": "code",
   "execution_count": 3,
   "metadata": {
    "id": "nApN1EOKY4-r"
   },
   "outputs": [],
   "source": [
    "# Carga los archivos de datos en diferentes DataFrames\n",
    "\n",
    "try:\n",
    "    # Tabla de llamadas\n",
    "    calls_data = pd.read_csv('C:/Users/jfcom/Documents/sprint4_project/datasets/megaline_calls.csv') \n",
    "    # tabla de internet\n",
    "    internet_data = pd.read_csv('C:/Users/jfcom/Documents/sprint4_project/datasets/megaline_internet.csv') \n",
    "    # tabla de mensajes\n",
    "    messages_data = pd.read_csv('C:/Users/jfcom/Documents/sprint4_project/datasets/megaline_messages.csv') \n",
    "    # Tabla de planes\n",
    "    plans_data = pd.read_csv('C:/Users/jfcom/Documents/sprint4_project/datasets/megaline_plans.csv')\n",
    "    # Tabla de usuarios\n",
    "    users_data = pd.read_csv('C:/Users/jfcom/Documents/sprint4_project/datasets/megaline_users.csv')\n",
    "except:\n",
    "    calls_data = pd.read_csv('/datasets/megaline_calls.csv') \n",
    "    # tabla de internet\n",
    "    internet_data = pd.read_csv('/datasets/megaline_internet.csv') \n",
    "    # tabla de mensajes\n",
    "    messages_data = pd.read_csv('/datasets/megaline_messages.csv') \n",
    "    # Tabla de planes\n",
    "    plans_data = pd.read_csv('/datasets/megaline_plans.csv')\n",
    "    # Tabla de usuarios\n",
    "    users_data = pd.read_csv('/datasets/megaline_users.csv')\n",
    "    "
   ]
  },
  {
   "cell_type": "markdown",
   "metadata": {
    "id": "nOsl2pl1epTm"
   },
   "source": [
    "### Dataframe plans_data <a id = 'd_plans'></a>"
   ]
  },
  {
   "cell_type": "code",
   "execution_count": 4,
   "metadata": {
    "colab": {
     "base_uri": "https://localhost:8080/"
    },
    "id": "rhl6tfkCepTm",
    "outputId": "c6d6f8d8-3aca-47d1-8ce5-16fb6e60d9fa"
   },
   "outputs": [
    {
     "name": "stdout",
     "output_type": "stream",
     "text": [
      "<class 'pandas.core.frame.DataFrame'>\n",
      "RangeIndex: 2 entries, 0 to 1\n",
      "Data columns (total 8 columns):\n",
      " #   Column                 Non-Null Count  Dtype  \n",
      "---  ------                 --------------  -----  \n",
      " 0   messages_included      2 non-null      int64  \n",
      " 1   mb_per_month_included  2 non-null      int64  \n",
      " 2   minutes_included       2 non-null      int64  \n",
      " 3   usd_monthly_pay        2 non-null      int64  \n",
      " 4   usd_per_gb             2 non-null      int64  \n",
      " 5   usd_per_message        2 non-null      float64\n",
      " 6   usd_per_minute         2 non-null      float64\n",
      " 7   plan_name              2 non-null      object \n",
      "dtypes: float64(2), int64(5), object(1)\n",
      "memory usage: 256.0+ bytes\n"
     ]
    }
   ],
   "source": [
    "# Información general/resumen sobre el DataFrame de los planes\n",
    "plans_data.info()"
   ]
  },
  {
   "cell_type": "code",
   "execution_count": 5,
   "metadata": {
    "colab": {
     "base_uri": "https://localhost:8080/",
     "height": 176
    },
    "id": "SQuDGuBIepTm",
    "outputId": "f07aeae8-38f1-4f44-8dca-c8c676c91029"
   },
   "outputs": [
    {
     "data": {
      "text/html": [
       "<div>\n",
       "<style scoped>\n",
       "    .dataframe tbody tr th:only-of-type {\n",
       "        vertical-align: middle;\n",
       "    }\n",
       "\n",
       "    .dataframe tbody tr th {\n",
       "        vertical-align: top;\n",
       "    }\n",
       "\n",
       "    .dataframe thead th {\n",
       "        text-align: right;\n",
       "    }\n",
       "</style>\n",
       "<table border=\"1\" class=\"dataframe\">\n",
       "  <thead>\n",
       "    <tr style=\"text-align: right;\">\n",
       "      <th></th>\n",
       "      <th>messages_included</th>\n",
       "      <th>mb_per_month_included</th>\n",
       "      <th>minutes_included</th>\n",
       "      <th>usd_monthly_pay</th>\n",
       "      <th>usd_per_gb</th>\n",
       "      <th>usd_per_message</th>\n",
       "      <th>usd_per_minute</th>\n",
       "      <th>plan_name</th>\n",
       "    </tr>\n",
       "  </thead>\n",
       "  <tbody>\n",
       "    <tr>\n",
       "      <th>0</th>\n",
       "      <td>50</td>\n",
       "      <td>15360</td>\n",
       "      <td>500</td>\n",
       "      <td>20</td>\n",
       "      <td>10</td>\n",
       "      <td>0.03</td>\n",
       "      <td>0.03</td>\n",
       "      <td>surf</td>\n",
       "    </tr>\n",
       "    <tr>\n",
       "      <th>1</th>\n",
       "      <td>1000</td>\n",
       "      <td>30720</td>\n",
       "      <td>3000</td>\n",
       "      <td>70</td>\n",
       "      <td>7</td>\n",
       "      <td>0.01</td>\n",
       "      <td>0.01</td>\n",
       "      <td>ultimate</td>\n",
       "    </tr>\n",
       "  </tbody>\n",
       "</table>\n",
       "</div>"
      ],
      "text/plain": [
       "   messages_included  mb_per_month_included  minutes_included  \\\n",
       "0                 50                  15360               500   \n",
       "1               1000                  30720              3000   \n",
       "\n",
       "   usd_monthly_pay  usd_per_gb  usd_per_message  usd_per_minute plan_name  \n",
       "0               20          10             0.03            0.03      surf  \n",
       "1               70           7             0.01            0.01  ultimate  "
      ]
     },
     "execution_count": 5,
     "metadata": {},
     "output_type": "execute_result"
    }
   ],
   "source": [
    "# Muestra de dataframe calls_data\n",
    "plans_data.head()"
   ]
  },
  {
   "cell_type": "code",
   "execution_count": 6,
   "metadata": {
    "colab": {
     "base_uri": "https://localhost:8080/"
    },
    "id": "XR_-SDI0epTn",
    "outputId": "e4cdcd94-67ce-41e9-950c-c72b47cc1a94"
   },
   "outputs": [
    {
     "name": "stdout",
     "output_type": "stream",
     "text": [
      "Cantidad de valores duplicados: 0\n"
     ]
    }
   ],
   "source": [
    "# verificación de valores duplicados\n",
    "print('Cantidad de valores duplicados:' ,plans_data.duplicated().sum())"
   ]
  },
  {
   "cell_type": "markdown",
   "metadata": {
    "id": "sbc0FGSyepTn"
   },
   "source": [
    "Nuestra Tabla cuenta con 2 datos y 8 columnas descritas a continuación:\n",
    "\n",
    "-\t`plan_name`: Nombre de la tarifa\n",
    "-\t`usd_monthly_fee`: Pago mensual en dólares estadounidenses\n",
    "-\t`minutes_included`: Minutos incluidos al mes\n",
    "-\t`messages_included`: SMS incluidos al mes\n",
    "-\t`mb_per_month_included`: Datos incluidos al mes (en megabytes)\n",
    "-\t`usd_per_minute`: Precio por minuto tras exceder los límites del paquete \n",
    "-\t`usd_per_message`:Precio por SMS tras exceder los límites del paquete\n",
    "-\t`usd_per_gb`: Precio por gigabyte de los datos extra tras exceder los límites del paquete (1 GB = 1024 megabytes)\n",
    "\n",
    "\n",
    "\n",
    "No se encuentran valores nulos ni duplicados. En esta tabla encontramos información valiosa de como es cada plan y condiciones"
   ]
  },
  {
   "cell_type": "markdown",
   "metadata": {
    "id": "EJ5jcbyEY4-w"
   },
   "source": [
    "### Dataframe users_data <a id = 'd_users'></a>"
   ]
  },
  {
   "cell_type": "code",
   "execution_count": 7,
   "metadata": {
    "colab": {
     "base_uri": "https://localhost:8080/"
    },
    "id": "7985OnEGY4-w",
    "outputId": "8184a9bb-387a-43b2-af28-265d77614f4c"
   },
   "outputs": [
    {
     "name": "stdout",
     "output_type": "stream",
     "text": [
      "<class 'pandas.core.frame.DataFrame'>\n",
      "RangeIndex: 500 entries, 0 to 499\n",
      "Data columns (total 8 columns):\n",
      " #   Column      Non-Null Count  Dtype \n",
      "---  ------      --------------  ----- \n",
      " 0   user_id     500 non-null    int64 \n",
      " 1   first_name  500 non-null    object\n",
      " 2   last_name   500 non-null    object\n",
      " 3   age         500 non-null    int64 \n",
      " 4   city        500 non-null    object\n",
      " 5   reg_date    500 non-null    object\n",
      " 6   plan        500 non-null    object\n",
      " 7   churn_date  34 non-null     object\n",
      "dtypes: int64(2), object(6)\n",
      "memory usage: 31.4+ KB\n"
     ]
    }
   ],
   "source": [
    "#Información general/resumen sobre el DataFrame user\n",
    "users_data.info()"
   ]
  },
  {
   "cell_type": "code",
   "execution_count": 8,
   "metadata": {
    "colab": {
     "base_uri": "https://localhost:8080/",
     "height": 363
    },
    "id": "xVbPkkY4Y4-w",
    "outputId": "ad80d48c-6e95-424d-bef5-0286276b5f93"
   },
   "outputs": [
    {
     "data": {
      "text/html": [
       "<div>\n",
       "<style scoped>\n",
       "    .dataframe tbody tr th:only-of-type {\n",
       "        vertical-align: middle;\n",
       "    }\n",
       "\n",
       "    .dataframe tbody tr th {\n",
       "        vertical-align: top;\n",
       "    }\n",
       "\n",
       "    .dataframe thead th {\n",
       "        text-align: right;\n",
       "    }\n",
       "</style>\n",
       "<table border=\"1\" class=\"dataframe\">\n",
       "  <thead>\n",
       "    <tr style=\"text-align: right;\">\n",
       "      <th></th>\n",
       "      <th>user_id</th>\n",
       "      <th>first_name</th>\n",
       "      <th>last_name</th>\n",
       "      <th>age</th>\n",
       "      <th>city</th>\n",
       "      <th>reg_date</th>\n",
       "      <th>plan</th>\n",
       "      <th>churn_date</th>\n",
       "    </tr>\n",
       "  </thead>\n",
       "  <tbody>\n",
       "    <tr>\n",
       "      <th>0</th>\n",
       "      <td>1000</td>\n",
       "      <td>Anamaria</td>\n",
       "      <td>Bauer</td>\n",
       "      <td>45</td>\n",
       "      <td>Atlanta-Sandy Springs-Roswell, GA MSA</td>\n",
       "      <td>2018-12-24</td>\n",
       "      <td>ultimate</td>\n",
       "      <td>NaN</td>\n",
       "    </tr>\n",
       "    <tr>\n",
       "      <th>1</th>\n",
       "      <td>1001</td>\n",
       "      <td>Mickey</td>\n",
       "      <td>Wilkerson</td>\n",
       "      <td>28</td>\n",
       "      <td>Seattle-Tacoma-Bellevue, WA MSA</td>\n",
       "      <td>2018-08-13</td>\n",
       "      <td>surf</td>\n",
       "      <td>NaN</td>\n",
       "    </tr>\n",
       "    <tr>\n",
       "      <th>2</th>\n",
       "      <td>1002</td>\n",
       "      <td>Carlee</td>\n",
       "      <td>Hoffman</td>\n",
       "      <td>36</td>\n",
       "      <td>Las Vegas-Henderson-Paradise, NV MSA</td>\n",
       "      <td>2018-10-21</td>\n",
       "      <td>surf</td>\n",
       "      <td>NaN</td>\n",
       "    </tr>\n",
       "    <tr>\n",
       "      <th>3</th>\n",
       "      <td>1003</td>\n",
       "      <td>Reynaldo</td>\n",
       "      <td>Jenkins</td>\n",
       "      <td>52</td>\n",
       "      <td>Tulsa, OK MSA</td>\n",
       "      <td>2018-01-28</td>\n",
       "      <td>surf</td>\n",
       "      <td>NaN</td>\n",
       "    </tr>\n",
       "    <tr>\n",
       "      <th>4</th>\n",
       "      <td>1004</td>\n",
       "      <td>Leonila</td>\n",
       "      <td>Thompson</td>\n",
       "      <td>40</td>\n",
       "      <td>Seattle-Tacoma-Bellevue, WA MSA</td>\n",
       "      <td>2018-05-23</td>\n",
       "      <td>surf</td>\n",
       "      <td>NaN</td>\n",
       "    </tr>\n",
       "    <tr>\n",
       "      <th>5</th>\n",
       "      <td>1005</td>\n",
       "      <td>Livia</td>\n",
       "      <td>Shields</td>\n",
       "      <td>31</td>\n",
       "      <td>Dallas-Fort Worth-Arlington, TX MSA</td>\n",
       "      <td>2018-11-29</td>\n",
       "      <td>surf</td>\n",
       "      <td>NaN</td>\n",
       "    </tr>\n",
       "    <tr>\n",
       "      <th>6</th>\n",
       "      <td>1006</td>\n",
       "      <td>Jesusa</td>\n",
       "      <td>Bradford</td>\n",
       "      <td>73</td>\n",
       "      <td>San Francisco-Oakland-Berkeley, CA MSA</td>\n",
       "      <td>2018-11-27</td>\n",
       "      <td>ultimate</td>\n",
       "      <td>2018-12-18</td>\n",
       "    </tr>\n",
       "    <tr>\n",
       "      <th>7</th>\n",
       "      <td>1007</td>\n",
       "      <td>Eusebio</td>\n",
       "      <td>Welch</td>\n",
       "      <td>42</td>\n",
       "      <td>Grand Rapids-Kentwood, MI MSA</td>\n",
       "      <td>2018-07-11</td>\n",
       "      <td>surf</td>\n",
       "      <td>NaN</td>\n",
       "    </tr>\n",
       "    <tr>\n",
       "      <th>8</th>\n",
       "      <td>1008</td>\n",
       "      <td>Emely</td>\n",
       "      <td>Hoffman</td>\n",
       "      <td>53</td>\n",
       "      <td>Orlando-Kissimmee-Sanford, FL MSA</td>\n",
       "      <td>2018-08-03</td>\n",
       "      <td>ultimate</td>\n",
       "      <td>NaN</td>\n",
       "    </tr>\n",
       "    <tr>\n",
       "      <th>9</th>\n",
       "      <td>1009</td>\n",
       "      <td>Gerry</td>\n",
       "      <td>Little</td>\n",
       "      <td>19</td>\n",
       "      <td>San Jose-Sunnyvale-Santa Clara, CA MSA</td>\n",
       "      <td>2018-04-22</td>\n",
       "      <td>surf</td>\n",
       "      <td>NaN</td>\n",
       "    </tr>\n",
       "  </tbody>\n",
       "</table>\n",
       "</div>"
      ],
      "text/plain": [
       "   user_id first_name  last_name  age                                    city  \\\n",
       "0     1000   Anamaria      Bauer   45   Atlanta-Sandy Springs-Roswell, GA MSA   \n",
       "1     1001     Mickey  Wilkerson   28         Seattle-Tacoma-Bellevue, WA MSA   \n",
       "2     1002     Carlee    Hoffman   36    Las Vegas-Henderson-Paradise, NV MSA   \n",
       "3     1003   Reynaldo    Jenkins   52                           Tulsa, OK MSA   \n",
       "4     1004    Leonila   Thompson   40         Seattle-Tacoma-Bellevue, WA MSA   \n",
       "5     1005      Livia    Shields   31     Dallas-Fort Worth-Arlington, TX MSA   \n",
       "6     1006     Jesusa   Bradford   73  San Francisco-Oakland-Berkeley, CA MSA   \n",
       "7     1007    Eusebio      Welch   42           Grand Rapids-Kentwood, MI MSA   \n",
       "8     1008      Emely    Hoffman   53       Orlando-Kissimmee-Sanford, FL MSA   \n",
       "9     1009      Gerry     Little   19  San Jose-Sunnyvale-Santa Clara, CA MSA   \n",
       "\n",
       "     reg_date      plan  churn_date  \n",
       "0  2018-12-24  ultimate         NaN  \n",
       "1  2018-08-13      surf         NaN  \n",
       "2  2018-10-21      surf         NaN  \n",
       "3  2018-01-28      surf         NaN  \n",
       "4  2018-05-23      surf         NaN  \n",
       "5  2018-11-29      surf         NaN  \n",
       "6  2018-11-27  ultimate  2018-12-18  \n",
       "7  2018-07-11      surf         NaN  \n",
       "8  2018-08-03  ultimate         NaN  \n",
       "9  2018-04-22      surf         NaN  "
      ]
     },
     "execution_count": 8,
     "metadata": {},
     "output_type": "execute_result"
    }
   ],
   "source": [
    "# Muestra de dataframe calls_data\n",
    "users_data.head(10)"
   ]
  },
  {
   "cell_type": "code",
   "execution_count": 9,
   "metadata": {
    "colab": {
     "base_uri": "https://localhost:8080/"
    },
    "id": "QFKM4UN4ViQK",
    "outputId": "8e0cbbb2-4512-4164-a603-05450f1203a7"
   },
   "outputs": [
    {
     "name": "stdout",
     "output_type": "stream",
     "text": [
      "Cantidad de valores duplicados: 0\n"
     ]
    }
   ],
   "source": [
    "# verificación de valores duplicados\n",
    "print('Cantidad de valores duplicados:' ,users_data.duplicated().sum())"
   ]
  },
  {
   "cell_type": "markdown",
   "metadata": {
    "id": "gTLprsLPVhi9"
   },
   "source": [
    "Nuestra Tabla cuenta con 500 datos y 8 columnas descritas a continuación:\n",
    "\n",
    "-\t`user_id`: Identificador único del usuario\n",
    "-\t`first_name`:Nombre del usuario\n",
    "-\t`last_name`: Apellido del usuario\n",
    "- `age`: Edad del usuario (en años)\n",
    "-\t`reg_date`: Fecha de suscripción (dd, mm, aa)\n",
    "-\t`churn_date`: Fecha en que el usuario dejó de usar el servicio \n",
    "-\t`city`:ciudad de residencia del usuario\n",
    "-\t`plan`:Nombre de la tarifa\n",
    "\n",
    "\n",
    "No se encuentran valore ni duplicados. Tenemos presencia de valores nulos, pero por la descripción de nuestra columna `churn_date` deben de significar que aún siguen con el plan. Nuestras columnas `churn_date` y `reg_date` tiene de tipo de datos erroneos, este se cambiara por un tipo datetime64 posteriormente"
   ]
  },
  {
   "cell_type": "code",
   "execution_count": 10,
   "metadata": {},
   "outputs": [
    {
     "name": "stdout",
     "output_type": "stream",
     "text": [
      "Número de usuarios en el plan surf: 339\n"
     ]
    }
   ],
   "source": [
    "#Cantidad de personas en el plan surf\n",
    "print(f'Número de usuarios en el plan surf: {users_data[users_data[\"plan\"]== \"surf\"][\"plan\"].count()}')"
   ]
  },
  {
   "cell_type": "code",
   "execution_count": 11,
   "metadata": {},
   "outputs": [
    {
     "name": "stdout",
     "output_type": "stream",
     "text": [
      "Número de usuarios en el plan ultimate: 161\n"
     ]
    }
   ],
   "source": [
    "#Cantidad de personas en el plan ultimate\n",
    "print(f'Número de usuarios en el plan ultimate: {users_data[users_data[\"plan\"]== \"ultimate\"][\"plan\"].count()}')"
   ]
  },
  {
   "cell_type": "markdown",
   "metadata": {
    "id": "8BETSuojY4-z"
   },
   "source": [
    "#### Corrección de datos <a id = 'c_4'></a>"
   ]
  },
  {
   "cell_type": "code",
   "execution_count": 12,
   "metadata": {
    "colab": {
     "base_uri": "https://localhost:8080/"
    },
    "id": "mrqZpVOEY4-0",
    "outputId": "83b720b7-1cf1-4717-f7f3-c7826256ea95"
   },
   "outputs": [
    {
     "name": "stdout",
     "output_type": "stream",
     "text": [
      "0     2018-12-24\n",
      "1     2018-08-13\n",
      "2     2018-10-21\n",
      "3     2018-01-28\n",
      "4     2018-05-23\n",
      "         ...    \n",
      "495   2018-09-04\n",
      "496   2018-02-20\n",
      "497   2018-12-10\n",
      "498   2018-02-04\n",
      "499   2018-05-06\n",
      "Name: reg_date, Length: 500, dtype: datetime64[ns]\n",
      "\n",
      "****************************************************\n",
      "\n",
      "0     NaT\n",
      "1     NaT\n",
      "2     NaT\n",
      "3     NaT\n",
      "4     NaT\n",
      "       ..\n",
      "495   NaT\n",
      "496   NaT\n",
      "497   NaT\n",
      "498   NaT\n",
      "499   NaT\n",
      "Name: churn_date, Length: 500, dtype: datetime64[ns]\n"
     ]
    }
   ],
   "source": [
    "#conversion a tipo datetime\n",
    "users_data['reg_date']= users_data['reg_date'].astype('datetime64[D]')\n",
    "users_data['churn_date']= users_data['churn_date'].astype('datetime64[D]', errors = 'ignore')\n",
    "\n",
    "#Impresión de una muestra y verificación de tipo de dato\n",
    "print(users_data['reg_date'])\n",
    "print(\"\\n****************************************************\\n\")\n",
    "print(users_data['churn_date'])"
   ]
  },
  {
   "cell_type": "markdown",
   "metadata": {
    "id": "dCAfC0BIY4-s"
   },
   "source": [
    "### Dataframe calls_data <a id = 'd_calls'></a>"
   ]
  },
  {
   "cell_type": "code",
   "execution_count": 13,
   "metadata": {
    "colab": {
     "base_uri": "https://localhost:8080/"
    },
    "id": "isYr25yEY4-t",
    "outputId": "3a6725d3-28be-4d90-d9b3-25dcd3d84bad"
   },
   "outputs": [
    {
     "name": "stdout",
     "output_type": "stream",
     "text": [
      "<class 'pandas.core.frame.DataFrame'>\n",
      "RangeIndex: 137735 entries, 0 to 137734\n",
      "Data columns (total 4 columns):\n",
      " #   Column     Non-Null Count   Dtype  \n",
      "---  ------     --------------   -----  \n",
      " 0   id         137735 non-null  object \n",
      " 1   user_id    137735 non-null  int64  \n",
      " 2   call_date  137735 non-null  object \n",
      " 3   duration   137735 non-null  float64\n",
      "dtypes: float64(1), int64(1), object(2)\n",
      "memory usage: 4.2+ MB\n"
     ]
    }
   ],
   "source": [
    "# Información general del data\n",
    "calls_data.info()"
   ]
  },
  {
   "cell_type": "code",
   "execution_count": 14,
   "metadata": {
    "colab": {
     "base_uri": "https://localhost:8080/",
     "height": 363
    },
    "id": "fV0vXxNEY4-t",
    "outputId": "567d236f-3c8c-46be-ec04-168a213c1fef"
   },
   "outputs": [
    {
     "data": {
      "text/html": [
       "<div>\n",
       "<style scoped>\n",
       "    .dataframe tbody tr th:only-of-type {\n",
       "        vertical-align: middle;\n",
       "    }\n",
       "\n",
       "    .dataframe tbody tr th {\n",
       "        vertical-align: top;\n",
       "    }\n",
       "\n",
       "    .dataframe thead th {\n",
       "        text-align: right;\n",
       "    }\n",
       "</style>\n",
       "<table border=\"1\" class=\"dataframe\">\n",
       "  <thead>\n",
       "    <tr style=\"text-align: right;\">\n",
       "      <th></th>\n",
       "      <th>id</th>\n",
       "      <th>user_id</th>\n",
       "      <th>call_date</th>\n",
       "      <th>duration</th>\n",
       "    </tr>\n",
       "  </thead>\n",
       "  <tbody>\n",
       "    <tr>\n",
       "      <th>0</th>\n",
       "      <td>1000_93</td>\n",
       "      <td>1000</td>\n",
       "      <td>2018-12-27</td>\n",
       "      <td>8.52</td>\n",
       "    </tr>\n",
       "    <tr>\n",
       "      <th>1</th>\n",
       "      <td>1000_145</td>\n",
       "      <td>1000</td>\n",
       "      <td>2018-12-27</td>\n",
       "      <td>13.66</td>\n",
       "    </tr>\n",
       "    <tr>\n",
       "      <th>2</th>\n",
       "      <td>1000_247</td>\n",
       "      <td>1000</td>\n",
       "      <td>2018-12-27</td>\n",
       "      <td>14.48</td>\n",
       "    </tr>\n",
       "    <tr>\n",
       "      <th>3</th>\n",
       "      <td>1000_309</td>\n",
       "      <td>1000</td>\n",
       "      <td>2018-12-28</td>\n",
       "      <td>5.76</td>\n",
       "    </tr>\n",
       "    <tr>\n",
       "      <th>4</th>\n",
       "      <td>1000_380</td>\n",
       "      <td>1000</td>\n",
       "      <td>2018-12-30</td>\n",
       "      <td>4.22</td>\n",
       "    </tr>\n",
       "    <tr>\n",
       "      <th>5</th>\n",
       "      <td>1000_388</td>\n",
       "      <td>1000</td>\n",
       "      <td>2018-12-31</td>\n",
       "      <td>2.20</td>\n",
       "    </tr>\n",
       "    <tr>\n",
       "      <th>6</th>\n",
       "      <td>1000_510</td>\n",
       "      <td>1000</td>\n",
       "      <td>2018-12-27</td>\n",
       "      <td>5.75</td>\n",
       "    </tr>\n",
       "    <tr>\n",
       "      <th>7</th>\n",
       "      <td>1000_521</td>\n",
       "      <td>1000</td>\n",
       "      <td>2018-12-28</td>\n",
       "      <td>14.18</td>\n",
       "    </tr>\n",
       "    <tr>\n",
       "      <th>8</th>\n",
       "      <td>1000_530</td>\n",
       "      <td>1000</td>\n",
       "      <td>2018-12-28</td>\n",
       "      <td>5.77</td>\n",
       "    </tr>\n",
       "    <tr>\n",
       "      <th>9</th>\n",
       "      <td>1000_544</td>\n",
       "      <td>1000</td>\n",
       "      <td>2018-12-26</td>\n",
       "      <td>4.40</td>\n",
       "    </tr>\n",
       "  </tbody>\n",
       "</table>\n",
       "</div>"
      ],
      "text/plain": [
       "         id  user_id   call_date  duration\n",
       "0   1000_93     1000  2018-12-27      8.52\n",
       "1  1000_145     1000  2018-12-27     13.66\n",
       "2  1000_247     1000  2018-12-27     14.48\n",
       "3  1000_309     1000  2018-12-28      5.76\n",
       "4  1000_380     1000  2018-12-30      4.22\n",
       "5  1000_388     1000  2018-12-31      2.20\n",
       "6  1000_510     1000  2018-12-27      5.75\n",
       "7  1000_521     1000  2018-12-28     14.18\n",
       "8  1000_530     1000  2018-12-28      5.77\n",
       "9  1000_544     1000  2018-12-26      4.40"
      ]
     },
     "execution_count": 14,
     "metadata": {},
     "output_type": "execute_result"
    }
   ],
   "source": [
    "# Muestra de dataframe calls_data\n",
    "calls_data.head(10)"
   ]
  },
  {
   "cell_type": "code",
   "execution_count": 15,
   "metadata": {
    "colab": {
     "base_uri": "https://localhost:8080/"
    },
    "id": "B892du4GSJH8",
    "outputId": "1a0207b7-e330-41c8-d52b-76a6ec7d4290"
   },
   "outputs": [
    {
     "name": "stdout",
     "output_type": "stream",
     "text": [
      "Cantidad de valores duplicados: 0\n"
     ]
    }
   ],
   "source": [
    "# verificación de valores duplicados\n",
    "print('Cantidad de valores duplicados:' ,calls_data.duplicated().sum())"
   ]
  },
  {
   "cell_type": "markdown",
   "metadata": {
    "id": "hDP7iuSWTbO1"
   },
   "source": [
    "Nuestra Tabla cuenta con 13773 datos y 4 columnas descritas a continuación:\n",
    "\n",
    "La tabla calls (datos sobre las llamadas):\n",
    "- `id`: Identificador único de la llamada\n",
    "-\t`user_id`: El identificador del usuario que realiza la llamada\n",
    "- `call_date`: Fecha de la llamada\n",
    "-\t`duration`: Duración de la llamada (en minutos)\n",
    "\n",
    "\n",
    "No se encuentran valores nulos, ni duplicados. En cuanto a los tipos de datos solo la columna `call_date` tiene de tipo de dato erroneo, este se cambiara por un tipo datetime64\n",
    "Vamos a crear dos columnas nuevas en esta tabla, la primera donde se encuentre el mes y la segunda donde se encuentre la duración de las llamadas redondeadas hacia arriba\n"
   ]
  },
  {
   "cell_type": "markdown",
   "metadata": {
    "id": "ypCDj1nwY4-u"
   },
   "source": [
    "#### Corrección de datos<a id= 'c_1'></a>"
   ]
  },
  {
   "cell_type": "code",
   "execution_count": 16,
   "metadata": {
    "colab": {
     "base_uri": "https://localhost:8080/"
    },
    "id": "rG_fAvGwOxw9",
    "outputId": "f6271b5b-535b-46bb-d544-d4cf97b510d3"
   },
   "outputs": [
    {
     "data": {
      "text/plain": [
       "0        2018-12-27\n",
       "1        2018-12-27\n",
       "2        2018-12-27\n",
       "3        2018-12-28\n",
       "4        2018-12-30\n",
       "            ...    \n",
       "137730   2018-11-21\n",
       "137731   2018-10-20\n",
       "137732   2018-09-21\n",
       "137733   2018-10-10\n",
       "137734   2018-12-29\n",
       "Name: call_date, Length: 137735, dtype: datetime64[ns]"
      ]
     },
     "execution_count": 16,
     "metadata": {},
     "output_type": "execute_result"
    }
   ],
   "source": [
    "#conversion a tipo datetime\n",
    "calls_data['call_date']= calls_data['call_date'].astype('datetime64[D]')\n",
    "\n",
    "#Impresión de una muestra y verificación de tipo de dato\n",
    "calls_data['call_date']"
   ]
  },
  {
   "cell_type": "markdown",
   "metadata": {
    "id": "JBTDixgKY4-0"
   },
   "source": [
    "#### Enriquecimiento de datos<a id = 'e_1'></a>"
   ]
  },
  {
   "cell_type": "code",
   "execution_count": 17,
   "metadata": {
    "colab": {
     "base_uri": "https://localhost:8080/",
     "height": 363
    },
    "id": "Ydp357i5xxvX",
    "outputId": "a60bb1a2-19bd-458e-ab28-e367fb16008a"
   },
   "outputs": [
    {
     "data": {
      "text/html": [
       "<div>\n",
       "<style scoped>\n",
       "    .dataframe tbody tr th:only-of-type {\n",
       "        vertical-align: middle;\n",
       "    }\n",
       "\n",
       "    .dataframe tbody tr th {\n",
       "        vertical-align: top;\n",
       "    }\n",
       "\n",
       "    .dataframe thead th {\n",
       "        text-align: right;\n",
       "    }\n",
       "</style>\n",
       "<table border=\"1\" class=\"dataframe\">\n",
       "  <thead>\n",
       "    <tr style=\"text-align: right;\">\n",
       "      <th></th>\n",
       "      <th>id</th>\n",
       "      <th>user_id</th>\n",
       "      <th>call_date</th>\n",
       "      <th>duration</th>\n",
       "      <th>month</th>\n",
       "      <th>duration_rounded</th>\n",
       "    </tr>\n",
       "  </thead>\n",
       "  <tbody>\n",
       "    <tr>\n",
       "      <th>0</th>\n",
       "      <td>1000_93</td>\n",
       "      <td>1000</td>\n",
       "      <td>2018-12-27</td>\n",
       "      <td>8.52</td>\n",
       "      <td>12</td>\n",
       "      <td>9</td>\n",
       "    </tr>\n",
       "    <tr>\n",
       "      <th>1</th>\n",
       "      <td>1000_145</td>\n",
       "      <td>1000</td>\n",
       "      <td>2018-12-27</td>\n",
       "      <td>13.66</td>\n",
       "      <td>12</td>\n",
       "      <td>14</td>\n",
       "    </tr>\n",
       "    <tr>\n",
       "      <th>2</th>\n",
       "      <td>1000_247</td>\n",
       "      <td>1000</td>\n",
       "      <td>2018-12-27</td>\n",
       "      <td>14.48</td>\n",
       "      <td>12</td>\n",
       "      <td>15</td>\n",
       "    </tr>\n",
       "    <tr>\n",
       "      <th>3</th>\n",
       "      <td>1000_309</td>\n",
       "      <td>1000</td>\n",
       "      <td>2018-12-28</td>\n",
       "      <td>5.76</td>\n",
       "      <td>12</td>\n",
       "      <td>6</td>\n",
       "    </tr>\n",
       "    <tr>\n",
       "      <th>4</th>\n",
       "      <td>1000_380</td>\n",
       "      <td>1000</td>\n",
       "      <td>2018-12-30</td>\n",
       "      <td>4.22</td>\n",
       "      <td>12</td>\n",
       "      <td>5</td>\n",
       "    </tr>\n",
       "    <tr>\n",
       "      <th>5</th>\n",
       "      <td>1000_388</td>\n",
       "      <td>1000</td>\n",
       "      <td>2018-12-31</td>\n",
       "      <td>2.20</td>\n",
       "      <td>12</td>\n",
       "      <td>3</td>\n",
       "    </tr>\n",
       "    <tr>\n",
       "      <th>6</th>\n",
       "      <td>1000_510</td>\n",
       "      <td>1000</td>\n",
       "      <td>2018-12-27</td>\n",
       "      <td>5.75</td>\n",
       "      <td>12</td>\n",
       "      <td>6</td>\n",
       "    </tr>\n",
       "    <tr>\n",
       "      <th>7</th>\n",
       "      <td>1000_521</td>\n",
       "      <td>1000</td>\n",
       "      <td>2018-12-28</td>\n",
       "      <td>14.18</td>\n",
       "      <td>12</td>\n",
       "      <td>15</td>\n",
       "    </tr>\n",
       "    <tr>\n",
       "      <th>8</th>\n",
       "      <td>1000_530</td>\n",
       "      <td>1000</td>\n",
       "      <td>2018-12-28</td>\n",
       "      <td>5.77</td>\n",
       "      <td>12</td>\n",
       "      <td>6</td>\n",
       "    </tr>\n",
       "    <tr>\n",
       "      <th>9</th>\n",
       "      <td>1000_544</td>\n",
       "      <td>1000</td>\n",
       "      <td>2018-12-26</td>\n",
       "      <td>4.40</td>\n",
       "      <td>12</td>\n",
       "      <td>5</td>\n",
       "    </tr>\n",
       "  </tbody>\n",
       "</table>\n",
       "</div>"
      ],
      "text/plain": [
       "         id  user_id  call_date  duration  month  duration_rounded\n",
       "0   1000_93     1000 2018-12-27      8.52     12                 9\n",
       "1  1000_145     1000 2018-12-27     13.66     12                14\n",
       "2  1000_247     1000 2018-12-27     14.48     12                15\n",
       "3  1000_309     1000 2018-12-28      5.76     12                 6\n",
       "4  1000_380     1000 2018-12-30      4.22     12                 5\n",
       "5  1000_388     1000 2018-12-31      2.20     12                 3\n",
       "6  1000_510     1000 2018-12-27      5.75     12                 6\n",
       "7  1000_521     1000 2018-12-28     14.18     12                15\n",
       "8  1000_530     1000 2018-12-28      5.77     12                 6\n",
       "9  1000_544     1000 2018-12-26      4.40     12                 5"
      ]
     },
     "execution_count": 17,
     "metadata": {},
     "output_type": "execute_result"
    }
   ],
   "source": [
    "#Creación de columna de mes\n",
    "calls_data['month'] = calls_data['call_date'].dt.month\n",
    "\n",
    "# #Creación de columna de duraciones redondeadas\n",
    "calls_data['duration_rounded']= np.ceil(calls_data['duration']).astype('int16')\n",
    "\n",
    "#Revisión de cambios aplicados\n",
    "calls_data.head(10)"
   ]
  },
  {
   "cell_type": "code",
   "execution_count": 18,
   "metadata": {
    "colab": {
     "base_uri": "https://localhost:8080/",
     "height": 363
    },
    "id": "U9u68OjpY54d",
    "outputId": "f4d7a585-7c66-4508-b479-e5dd60194ef8"
   },
   "outputs": [
    {
     "data": {
      "text/html": [
       "<div>\n",
       "<style scoped>\n",
       "    .dataframe tbody tr th:only-of-type {\n",
       "        vertical-align: middle;\n",
       "    }\n",
       "\n",
       "    .dataframe tbody tr th {\n",
       "        vertical-align: top;\n",
       "    }\n",
       "\n",
       "    .dataframe thead th {\n",
       "        text-align: right;\n",
       "    }\n",
       "</style>\n",
       "<table border=\"1\" class=\"dataframe\">\n",
       "  <thead>\n",
       "    <tr style=\"text-align: right;\">\n",
       "      <th></th>\n",
       "      <th>id</th>\n",
       "      <th>user_id</th>\n",
       "      <th>call_date</th>\n",
       "      <th>duration</th>\n",
       "      <th>month</th>\n",
       "      <th>duration_rounded</th>\n",
       "    </tr>\n",
       "  </thead>\n",
       "  <tbody>\n",
       "    <tr>\n",
       "      <th>0</th>\n",
       "      <td>1000_93</td>\n",
       "      <td>1000</td>\n",
       "      <td>2018-12-27</td>\n",
       "      <td>8.52</td>\n",
       "      <td>12</td>\n",
       "      <td>9</td>\n",
       "    </tr>\n",
       "    <tr>\n",
       "      <th>1</th>\n",
       "      <td>1000_145</td>\n",
       "      <td>1000</td>\n",
       "      <td>2018-12-27</td>\n",
       "      <td>13.66</td>\n",
       "      <td>12</td>\n",
       "      <td>14</td>\n",
       "    </tr>\n",
       "    <tr>\n",
       "      <th>2</th>\n",
       "      <td>1000_247</td>\n",
       "      <td>1000</td>\n",
       "      <td>2018-12-27</td>\n",
       "      <td>14.48</td>\n",
       "      <td>12</td>\n",
       "      <td>15</td>\n",
       "    </tr>\n",
       "    <tr>\n",
       "      <th>3</th>\n",
       "      <td>1000_309</td>\n",
       "      <td>1000</td>\n",
       "      <td>2018-12-28</td>\n",
       "      <td>5.76</td>\n",
       "      <td>12</td>\n",
       "      <td>6</td>\n",
       "    </tr>\n",
       "    <tr>\n",
       "      <th>4</th>\n",
       "      <td>1000_380</td>\n",
       "      <td>1000</td>\n",
       "      <td>2018-12-30</td>\n",
       "      <td>4.22</td>\n",
       "      <td>12</td>\n",
       "      <td>5</td>\n",
       "    </tr>\n",
       "    <tr>\n",
       "      <th>5</th>\n",
       "      <td>1000_388</td>\n",
       "      <td>1000</td>\n",
       "      <td>2018-12-31</td>\n",
       "      <td>2.20</td>\n",
       "      <td>12</td>\n",
       "      <td>3</td>\n",
       "    </tr>\n",
       "    <tr>\n",
       "      <th>6</th>\n",
       "      <td>1000_510</td>\n",
       "      <td>1000</td>\n",
       "      <td>2018-12-27</td>\n",
       "      <td>5.75</td>\n",
       "      <td>12</td>\n",
       "      <td>6</td>\n",
       "    </tr>\n",
       "    <tr>\n",
       "      <th>7</th>\n",
       "      <td>1000_521</td>\n",
       "      <td>1000</td>\n",
       "      <td>2018-12-28</td>\n",
       "      <td>14.18</td>\n",
       "      <td>12</td>\n",
       "      <td>15</td>\n",
       "    </tr>\n",
       "    <tr>\n",
       "      <th>8</th>\n",
       "      <td>1000_530</td>\n",
       "      <td>1000</td>\n",
       "      <td>2018-12-28</td>\n",
       "      <td>5.77</td>\n",
       "      <td>12</td>\n",
       "      <td>6</td>\n",
       "    </tr>\n",
       "    <tr>\n",
       "      <th>9</th>\n",
       "      <td>1000_544</td>\n",
       "      <td>1000</td>\n",
       "      <td>2018-12-26</td>\n",
       "      <td>4.40</td>\n",
       "      <td>12</td>\n",
       "      <td>5</td>\n",
       "    </tr>\n",
       "  </tbody>\n",
       "</table>\n",
       "</div>"
      ],
      "text/plain": [
       "         id  user_id  call_date  duration  month  duration_rounded\n",
       "0   1000_93     1000 2018-12-27      8.52     12                 9\n",
       "1  1000_145     1000 2018-12-27     13.66     12                14\n",
       "2  1000_247     1000 2018-12-27     14.48     12                15\n",
       "3  1000_309     1000 2018-12-28      5.76     12                 6\n",
       "4  1000_380     1000 2018-12-30      4.22     12                 5\n",
       "5  1000_388     1000 2018-12-31      2.20     12                 3\n",
       "6  1000_510     1000 2018-12-27      5.75     12                 6\n",
       "7  1000_521     1000 2018-12-28     14.18     12                15\n",
       "8  1000_530     1000 2018-12-28      5.77     12                 6\n",
       "9  1000_544     1000 2018-12-26      4.40     12                 5"
      ]
     },
     "execution_count": 18,
     "metadata": {},
     "output_type": "execute_result"
    }
   ],
   "source": [
    "#Revisión de cambios aplicados\n",
    "calls_data.head(10)"
   ]
  },
  {
   "cell_type": "markdown",
   "metadata": {
    "id": "V8JR3cqBUgx9"
   },
   "source": [
    "### Dataframe internet_data<a id= 'd_internet'></a>"
   ]
  },
  {
   "cell_type": "code",
   "execution_count": 19,
   "metadata": {
    "colab": {
     "base_uri": "https://localhost:8080/"
    },
    "id": "ZzjuC0DLVJoN",
    "outputId": "9c4bcbfa-071c-458a-8f47-065a9b54a593"
   },
   "outputs": [
    {
     "name": "stdout",
     "output_type": "stream",
     "text": [
      "<class 'pandas.core.frame.DataFrame'>\n",
      "RangeIndex: 104825 entries, 0 to 104824\n",
      "Data columns (total 4 columns):\n",
      " #   Column        Non-Null Count   Dtype  \n",
      "---  ------        --------------   -----  \n",
      " 0   id            104825 non-null  object \n",
      " 1   user_id       104825 non-null  int64  \n",
      " 2   session_date  104825 non-null  object \n",
      " 3   mb_used       104825 non-null  float64\n",
      "dtypes: float64(1), int64(1), object(2)\n",
      "memory usage: 3.2+ MB\n"
     ]
    }
   ],
   "source": [
    "#Información general/resumen sobre el DataFrame internet\n",
    "internet_data.info()"
   ]
  },
  {
   "cell_type": "code",
   "execution_count": 20,
   "metadata": {
    "colab": {
     "base_uri": "https://localhost:8080/",
     "height": 363
    },
    "id": "svOrLI1jVJoP",
    "outputId": "4a0c69b1-cc39-48a6-ac9a-594d59a98996"
   },
   "outputs": [
    {
     "data": {
      "text/html": [
       "<div>\n",
       "<style scoped>\n",
       "    .dataframe tbody tr th:only-of-type {\n",
       "        vertical-align: middle;\n",
       "    }\n",
       "\n",
       "    .dataframe tbody tr th {\n",
       "        vertical-align: top;\n",
       "    }\n",
       "\n",
       "    .dataframe thead th {\n",
       "        text-align: right;\n",
       "    }\n",
       "</style>\n",
       "<table border=\"1\" class=\"dataframe\">\n",
       "  <thead>\n",
       "    <tr style=\"text-align: right;\">\n",
       "      <th></th>\n",
       "      <th>id</th>\n",
       "      <th>user_id</th>\n",
       "      <th>session_date</th>\n",
       "      <th>mb_used</th>\n",
       "    </tr>\n",
       "  </thead>\n",
       "  <tbody>\n",
       "    <tr>\n",
       "      <th>0</th>\n",
       "      <td>1000_13</td>\n",
       "      <td>1000</td>\n",
       "      <td>2018-12-29</td>\n",
       "      <td>89.86</td>\n",
       "    </tr>\n",
       "    <tr>\n",
       "      <th>1</th>\n",
       "      <td>1000_204</td>\n",
       "      <td>1000</td>\n",
       "      <td>2018-12-31</td>\n",
       "      <td>0.00</td>\n",
       "    </tr>\n",
       "    <tr>\n",
       "      <th>2</th>\n",
       "      <td>1000_379</td>\n",
       "      <td>1000</td>\n",
       "      <td>2018-12-28</td>\n",
       "      <td>660.40</td>\n",
       "    </tr>\n",
       "    <tr>\n",
       "      <th>3</th>\n",
       "      <td>1000_413</td>\n",
       "      <td>1000</td>\n",
       "      <td>2018-12-26</td>\n",
       "      <td>270.99</td>\n",
       "    </tr>\n",
       "    <tr>\n",
       "      <th>4</th>\n",
       "      <td>1000_442</td>\n",
       "      <td>1000</td>\n",
       "      <td>2018-12-27</td>\n",
       "      <td>880.22</td>\n",
       "    </tr>\n",
       "    <tr>\n",
       "      <th>5</th>\n",
       "      <td>1001_0</td>\n",
       "      <td>1001</td>\n",
       "      <td>2018-08-24</td>\n",
       "      <td>284.68</td>\n",
       "    </tr>\n",
       "    <tr>\n",
       "      <th>6</th>\n",
       "      <td>1001_3</td>\n",
       "      <td>1001</td>\n",
       "      <td>2018-12-09</td>\n",
       "      <td>656.04</td>\n",
       "    </tr>\n",
       "    <tr>\n",
       "      <th>7</th>\n",
       "      <td>1001_4</td>\n",
       "      <td>1001</td>\n",
       "      <td>2018-11-04</td>\n",
       "      <td>16.97</td>\n",
       "    </tr>\n",
       "    <tr>\n",
       "      <th>8</th>\n",
       "      <td>1001_10</td>\n",
       "      <td>1001</td>\n",
       "      <td>2018-11-27</td>\n",
       "      <td>135.18</td>\n",
       "    </tr>\n",
       "    <tr>\n",
       "      <th>9</th>\n",
       "      <td>1001_15</td>\n",
       "      <td>1001</td>\n",
       "      <td>2018-12-13</td>\n",
       "      <td>761.92</td>\n",
       "    </tr>\n",
       "  </tbody>\n",
       "</table>\n",
       "</div>"
      ],
      "text/plain": [
       "         id  user_id session_date  mb_used\n",
       "0   1000_13     1000   2018-12-29    89.86\n",
       "1  1000_204     1000   2018-12-31     0.00\n",
       "2  1000_379     1000   2018-12-28   660.40\n",
       "3  1000_413     1000   2018-12-26   270.99\n",
       "4  1000_442     1000   2018-12-27   880.22\n",
       "5    1001_0     1001   2018-08-24   284.68\n",
       "6    1001_3     1001   2018-12-09   656.04\n",
       "7    1001_4     1001   2018-11-04    16.97\n",
       "8   1001_10     1001   2018-11-27   135.18\n",
       "9   1001_15     1001   2018-12-13   761.92"
      ]
     },
     "execution_count": 20,
     "metadata": {},
     "output_type": "execute_result"
    }
   ],
   "source": [
    "# Muestra de dataframe calls_data\n",
    "internet_data.head(10)"
   ]
  },
  {
   "cell_type": "code",
   "execution_count": 21,
   "metadata": {
    "colab": {
     "base_uri": "https://localhost:8080/"
    },
    "id": "-nGoaUKoVJoQ",
    "outputId": "143a6de8-fc63-41db-a9b8-aaebf3fd9d22"
   },
   "outputs": [
    {
     "name": "stdout",
     "output_type": "stream",
     "text": [
      "Cantidad de valores duplicados: 0\n"
     ]
    }
   ],
   "source": [
    "# verificación de valores duplicados\n",
    "print('Cantidad de valores duplicados:' ,internet_data.duplicated().sum())"
   ]
  },
  {
   "cell_type": "markdown",
   "metadata": {
    "id": "Z55P6TQ2ViB4"
   },
   "source": [
    "Nuestra Tabla cuenta con 104825 datos y 4 columnas descritas a continuación:\n",
    "\n",
    "La tabla calls (datos sobre las llamadas):\n",
    "- `id`: Identificador único de la sesión\n",
    "-\t`user_id`: El identificador del usuario que realiza la llamada\n",
    "-\t`session_date`: Fecha de la sesión web\n",
    "- `mb_used`: Volumen de datos gastados durante la sesión (en megabytes)\n",
    "\n",
    "\n",
    "No se encuentran valores nulos, ni duplicados. En cuanto a los tipos de datos solo la columna `session_date` tiene de tipo de dato erroneo, este se cambiara por un tipo datetime64 posteriormente. Realizaremos una columna nueva con el mes obtenido de la columna session_Date"
   ]
  },
  {
   "cell_type": "markdown",
   "metadata": {
    "id": "7pWLY6LPNKev"
   },
   "source": [
    "#### Corrección de datos<a id= 'c_2'></a>"
   ]
  },
  {
   "cell_type": "code",
   "execution_count": 22,
   "metadata": {
    "colab": {
     "base_uri": "https://localhost:8080/"
    },
    "id": "RKiCOxAcNKev",
    "outputId": "2f77768f-671a-448d-8cb9-0b6fe968a0d8"
   },
   "outputs": [
    {
     "data": {
      "text/plain": [
       "0        2018-12-29\n",
       "1        2018-12-31\n",
       "2        2018-12-28\n",
       "3        2018-12-26\n",
       "4        2018-12-27\n",
       "            ...    \n",
       "104820   2018-10-20\n",
       "104821   2018-12-30\n",
       "104822   2018-09-22\n",
       "104823   2018-12-07\n",
       "104824   2018-12-24\n",
       "Name: session_date, Length: 104825, dtype: datetime64[ns]"
      ]
     },
     "execution_count": 22,
     "metadata": {},
     "output_type": "execute_result"
    }
   ],
   "source": [
    "#conversion a tipo datetime\n",
    "internet_data['session_date']= internet_data['session_date'].astype('datetime64[D]')\n",
    "\n",
    "#Impresión de una muestra y verificación de tipo de dato\n",
    "internet_data['session_date']"
   ]
  },
  {
   "cell_type": "markdown",
   "metadata": {
    "id": "YecCNkzuY4-v"
   },
   "source": [
    "#### Enriquecimiento de datos<a id = 'e_2'></a>"
   ]
  },
  {
   "cell_type": "code",
   "execution_count": 23,
   "metadata": {
    "id": "ZWgJdUtlSc4H"
   },
   "outputs": [],
   "source": [
    "#Creación de columna de mes\n",
    "internet_data['month'] = internet_data['session_date'].dt.month"
   ]
  },
  {
   "cell_type": "code",
   "execution_count": 24,
   "metadata": {
    "colab": {
     "base_uri": "https://localhost:8080/",
     "height": 363
    },
    "id": "oakU6s4Mc0mo",
    "outputId": "9b77138d-d65d-42f8-b1a4-b8123dfea977"
   },
   "outputs": [
    {
     "data": {
      "text/html": [
       "<div>\n",
       "<style scoped>\n",
       "    .dataframe tbody tr th:only-of-type {\n",
       "        vertical-align: middle;\n",
       "    }\n",
       "\n",
       "    .dataframe tbody tr th {\n",
       "        vertical-align: top;\n",
       "    }\n",
       "\n",
       "    .dataframe thead th {\n",
       "        text-align: right;\n",
       "    }\n",
       "</style>\n",
       "<table border=\"1\" class=\"dataframe\">\n",
       "  <thead>\n",
       "    <tr style=\"text-align: right;\">\n",
       "      <th></th>\n",
       "      <th>id</th>\n",
       "      <th>user_id</th>\n",
       "      <th>session_date</th>\n",
       "      <th>mb_used</th>\n",
       "      <th>month</th>\n",
       "    </tr>\n",
       "  </thead>\n",
       "  <tbody>\n",
       "    <tr>\n",
       "      <th>0</th>\n",
       "      <td>1000_13</td>\n",
       "      <td>1000</td>\n",
       "      <td>2018-12-29</td>\n",
       "      <td>89.86</td>\n",
       "      <td>12</td>\n",
       "    </tr>\n",
       "    <tr>\n",
       "      <th>1</th>\n",
       "      <td>1000_204</td>\n",
       "      <td>1000</td>\n",
       "      <td>2018-12-31</td>\n",
       "      <td>0.00</td>\n",
       "      <td>12</td>\n",
       "    </tr>\n",
       "    <tr>\n",
       "      <th>2</th>\n",
       "      <td>1000_379</td>\n",
       "      <td>1000</td>\n",
       "      <td>2018-12-28</td>\n",
       "      <td>660.40</td>\n",
       "      <td>12</td>\n",
       "    </tr>\n",
       "    <tr>\n",
       "      <th>3</th>\n",
       "      <td>1000_413</td>\n",
       "      <td>1000</td>\n",
       "      <td>2018-12-26</td>\n",
       "      <td>270.99</td>\n",
       "      <td>12</td>\n",
       "    </tr>\n",
       "    <tr>\n",
       "      <th>4</th>\n",
       "      <td>1000_442</td>\n",
       "      <td>1000</td>\n",
       "      <td>2018-12-27</td>\n",
       "      <td>880.22</td>\n",
       "      <td>12</td>\n",
       "    </tr>\n",
       "    <tr>\n",
       "      <th>5</th>\n",
       "      <td>1001_0</td>\n",
       "      <td>1001</td>\n",
       "      <td>2018-08-24</td>\n",
       "      <td>284.68</td>\n",
       "      <td>8</td>\n",
       "    </tr>\n",
       "    <tr>\n",
       "      <th>6</th>\n",
       "      <td>1001_3</td>\n",
       "      <td>1001</td>\n",
       "      <td>2018-12-09</td>\n",
       "      <td>656.04</td>\n",
       "      <td>12</td>\n",
       "    </tr>\n",
       "    <tr>\n",
       "      <th>7</th>\n",
       "      <td>1001_4</td>\n",
       "      <td>1001</td>\n",
       "      <td>2018-11-04</td>\n",
       "      <td>16.97</td>\n",
       "      <td>11</td>\n",
       "    </tr>\n",
       "    <tr>\n",
       "      <th>8</th>\n",
       "      <td>1001_10</td>\n",
       "      <td>1001</td>\n",
       "      <td>2018-11-27</td>\n",
       "      <td>135.18</td>\n",
       "      <td>11</td>\n",
       "    </tr>\n",
       "    <tr>\n",
       "      <th>9</th>\n",
       "      <td>1001_15</td>\n",
       "      <td>1001</td>\n",
       "      <td>2018-12-13</td>\n",
       "      <td>761.92</td>\n",
       "      <td>12</td>\n",
       "    </tr>\n",
       "  </tbody>\n",
       "</table>\n",
       "</div>"
      ],
      "text/plain": [
       "         id  user_id session_date  mb_used  month\n",
       "0   1000_13     1000   2018-12-29    89.86     12\n",
       "1  1000_204     1000   2018-12-31     0.00     12\n",
       "2  1000_379     1000   2018-12-28   660.40     12\n",
       "3  1000_413     1000   2018-12-26   270.99     12\n",
       "4  1000_442     1000   2018-12-27   880.22     12\n",
       "5    1001_0     1001   2018-08-24   284.68      8\n",
       "6    1001_3     1001   2018-12-09   656.04     12\n",
       "7    1001_4     1001   2018-11-04    16.97     11\n",
       "8   1001_10     1001   2018-11-27   135.18     11\n",
       "9   1001_15     1001   2018-12-13   761.92     12"
      ]
     },
     "execution_count": 24,
     "metadata": {},
     "output_type": "execute_result"
    }
   ],
   "source": [
    "#Revisión de cambios aplicados\n",
    "internet_data.head(10)"
   ]
  },
  {
   "cell_type": "markdown",
   "metadata": {
    "id": "899F4nYhXQPd"
   },
   "source": [
    "### Dataframe messages_data<a id = 'd_messages'></a>"
   ]
  },
  {
   "cell_type": "code",
   "execution_count": 25,
   "metadata": {
    "colab": {
     "base_uri": "https://localhost:8080/"
    },
    "id": "vzcUDPx6XQPd",
    "outputId": "ed11dc93-d795-41b0-e5ce-21513dc3074e"
   },
   "outputs": [
    {
     "name": "stdout",
     "output_type": "stream",
     "text": [
      "<class 'pandas.core.frame.DataFrame'>\n",
      "RangeIndex: 76051 entries, 0 to 76050\n",
      "Data columns (total 3 columns):\n",
      " #   Column        Non-Null Count  Dtype \n",
      "---  ------        --------------  ----- \n",
      " 0   id            76051 non-null  object\n",
      " 1   user_id       76051 non-null  int64 \n",
      " 2   message_date  76051 non-null  object\n",
      "dtypes: int64(1), object(2)\n",
      "memory usage: 1.7+ MB\n"
     ]
    }
   ],
   "source": [
    "#Información general/resumen sobre el DataFrame de messages\n",
    "messages_data.info()"
   ]
  },
  {
   "cell_type": "code",
   "execution_count": 26,
   "metadata": {
    "colab": {
     "base_uri": "https://localhost:8080/",
     "height": 363
    },
    "id": "1T1brpqFXQPe",
    "outputId": "210871f8-d4bb-4750-8a2d-5e2ab1d74e4f"
   },
   "outputs": [
    {
     "data": {
      "text/html": [
       "<div>\n",
       "<style scoped>\n",
       "    .dataframe tbody tr th:only-of-type {\n",
       "        vertical-align: middle;\n",
       "    }\n",
       "\n",
       "    .dataframe tbody tr th {\n",
       "        vertical-align: top;\n",
       "    }\n",
       "\n",
       "    .dataframe thead th {\n",
       "        text-align: right;\n",
       "    }\n",
       "</style>\n",
       "<table border=\"1\" class=\"dataframe\">\n",
       "  <thead>\n",
       "    <tr style=\"text-align: right;\">\n",
       "      <th></th>\n",
       "      <th>id</th>\n",
       "      <th>user_id</th>\n",
       "      <th>message_date</th>\n",
       "    </tr>\n",
       "  </thead>\n",
       "  <tbody>\n",
       "    <tr>\n",
       "      <th>0</th>\n",
       "      <td>1000_125</td>\n",
       "      <td>1000</td>\n",
       "      <td>2018-12-27</td>\n",
       "    </tr>\n",
       "    <tr>\n",
       "      <th>1</th>\n",
       "      <td>1000_160</td>\n",
       "      <td>1000</td>\n",
       "      <td>2018-12-31</td>\n",
       "    </tr>\n",
       "    <tr>\n",
       "      <th>2</th>\n",
       "      <td>1000_223</td>\n",
       "      <td>1000</td>\n",
       "      <td>2018-12-31</td>\n",
       "    </tr>\n",
       "    <tr>\n",
       "      <th>3</th>\n",
       "      <td>1000_251</td>\n",
       "      <td>1000</td>\n",
       "      <td>2018-12-27</td>\n",
       "    </tr>\n",
       "    <tr>\n",
       "      <th>4</th>\n",
       "      <td>1000_255</td>\n",
       "      <td>1000</td>\n",
       "      <td>2018-12-26</td>\n",
       "    </tr>\n",
       "    <tr>\n",
       "      <th>5</th>\n",
       "      <td>1000_346</td>\n",
       "      <td>1000</td>\n",
       "      <td>2018-12-29</td>\n",
       "    </tr>\n",
       "    <tr>\n",
       "      <th>6</th>\n",
       "      <td>1000_386</td>\n",
       "      <td>1000</td>\n",
       "      <td>2018-12-30</td>\n",
       "    </tr>\n",
       "    <tr>\n",
       "      <th>7</th>\n",
       "      <td>1000_413</td>\n",
       "      <td>1000</td>\n",
       "      <td>2018-12-31</td>\n",
       "    </tr>\n",
       "    <tr>\n",
       "      <th>8</th>\n",
       "      <td>1000_502</td>\n",
       "      <td>1000</td>\n",
       "      <td>2018-12-27</td>\n",
       "    </tr>\n",
       "    <tr>\n",
       "      <th>9</th>\n",
       "      <td>1000_525</td>\n",
       "      <td>1000</td>\n",
       "      <td>2018-12-28</td>\n",
       "    </tr>\n",
       "  </tbody>\n",
       "</table>\n",
       "</div>"
      ],
      "text/plain": [
       "         id  user_id message_date\n",
       "0  1000_125     1000   2018-12-27\n",
       "1  1000_160     1000   2018-12-31\n",
       "2  1000_223     1000   2018-12-31\n",
       "3  1000_251     1000   2018-12-27\n",
       "4  1000_255     1000   2018-12-26\n",
       "5  1000_346     1000   2018-12-29\n",
       "6  1000_386     1000   2018-12-30\n",
       "7  1000_413     1000   2018-12-31\n",
       "8  1000_502     1000   2018-12-27\n",
       "9  1000_525     1000   2018-12-28"
      ]
     },
     "execution_count": 26,
     "metadata": {},
     "output_type": "execute_result"
    }
   ],
   "source": [
    "# Muestra de dataframe calls_data\n",
    "messages_data.head(10)"
   ]
  },
  {
   "cell_type": "code",
   "execution_count": 27,
   "metadata": {
    "colab": {
     "base_uri": "https://localhost:8080/"
    },
    "id": "trNsud3LXQPf",
    "outputId": "f790d583-f20d-495e-85d4-402c1e4a67e2"
   },
   "outputs": [
    {
     "name": "stdout",
     "output_type": "stream",
     "text": [
      "Cantidad de valores duplicados: 0\n"
     ]
    }
   ],
   "source": [
    "# verificación de valores duplicados\n",
    "print('Cantidad de valores duplicados:' ,messages_data.duplicated().sum())"
   ]
  },
  {
   "cell_type": "markdown",
   "metadata": {
    "id": "ZFitcPwDXQPf"
   },
   "source": [
    "Nuestra Tabla cuenta con 76051 datos y 3 columnas descritas a continuación:\n",
    "\n",
    "La tabla calls (datos sobre las llamadas):\n",
    "- `id`: Identificador único del SMS\n",
    "-\t`user_id`: El identificador del usuario que manda el SMS\n",
    "- `message_date`: Fecha del SMS\n",
    "\n",
    "No se encuentran valores nulos, ni duplicados. En cuanto a los tipos de datos solo la columna `message_date` tiene de tipo de dato erroneo, este se cambiara por un tipo datetime64 posteriormente.\n",
    "Agregaremos una columna para identificar el mes de los mensajes hechos\n"
   ]
  },
  {
   "cell_type": "markdown",
   "metadata": {
    "id": "ESPOD34hY4-x"
   },
   "source": [
    "#### Corrección de datos<a id = 'c_3'></a>"
   ]
  },
  {
   "cell_type": "code",
   "execution_count": 28,
   "metadata": {
    "colab": {
     "base_uri": "https://localhost:8080/"
    },
    "id": "RTbZy8-PY4-v",
    "outputId": "1632562e-b666-4528-860c-6101a4d8c2ca"
   },
   "outputs": [
    {
     "data": {
      "text/plain": [
       "0       2018-12-27\n",
       "1       2018-12-31\n",
       "2       2018-12-31\n",
       "3       2018-12-27\n",
       "4       2018-12-26\n",
       "           ...    \n",
       "76046   2018-12-24\n",
       "76047   2018-12-24\n",
       "76048   2018-12-31\n",
       "76049   2018-12-24\n",
       "76050   2018-12-23\n",
       "Name: message_date, Length: 76051, dtype: datetime64[ns]"
      ]
     },
     "execution_count": 28,
     "metadata": {},
     "output_type": "execute_result"
    }
   ],
   "source": [
    "#conversion a tipo datetime\n",
    "messages_data['message_date']= messages_data['message_date'].astype('datetime64[D]')\n",
    "\n",
    "#Impresión de una muestra y verificación de tipo de dato\n",
    "messages_data['message_date']"
   ]
  },
  {
   "cell_type": "markdown",
   "metadata": {
    "id": "S_b4iP_WY4-y"
   },
   "source": [
    "#### Enriquecimiento de los datos <a id = 'e_3' >"
   ]
  },
  {
   "cell_type": "code",
   "execution_count": 29,
   "metadata": {
    "id": "wn64g5XTY4-x"
   },
   "outputs": [],
   "source": [
    "#Creación de la nueva columna\n",
    "messages_data['month'] = messages_data['message_date'].dt.month"
   ]
  },
  {
   "cell_type": "code",
   "execution_count": 30,
   "metadata": {
    "colab": {
     "base_uri": "https://localhost:8080/",
     "height": 363
    },
    "id": "gJ1RDS68dg6J",
    "outputId": "c82a0a12-5fc3-4f13-eb95-d0526d8c97fb"
   },
   "outputs": [
    {
     "data": {
      "text/html": [
       "<div>\n",
       "<style scoped>\n",
       "    .dataframe tbody tr th:only-of-type {\n",
       "        vertical-align: middle;\n",
       "    }\n",
       "\n",
       "    .dataframe tbody tr th {\n",
       "        vertical-align: top;\n",
       "    }\n",
       "\n",
       "    .dataframe thead th {\n",
       "        text-align: right;\n",
       "    }\n",
       "</style>\n",
       "<table border=\"1\" class=\"dataframe\">\n",
       "  <thead>\n",
       "    <tr style=\"text-align: right;\">\n",
       "      <th></th>\n",
       "      <th>id</th>\n",
       "      <th>user_id</th>\n",
       "      <th>message_date</th>\n",
       "      <th>month</th>\n",
       "    </tr>\n",
       "  </thead>\n",
       "  <tbody>\n",
       "    <tr>\n",
       "      <th>0</th>\n",
       "      <td>1000_125</td>\n",
       "      <td>1000</td>\n",
       "      <td>2018-12-27</td>\n",
       "      <td>12</td>\n",
       "    </tr>\n",
       "    <tr>\n",
       "      <th>1</th>\n",
       "      <td>1000_160</td>\n",
       "      <td>1000</td>\n",
       "      <td>2018-12-31</td>\n",
       "      <td>12</td>\n",
       "    </tr>\n",
       "    <tr>\n",
       "      <th>2</th>\n",
       "      <td>1000_223</td>\n",
       "      <td>1000</td>\n",
       "      <td>2018-12-31</td>\n",
       "      <td>12</td>\n",
       "    </tr>\n",
       "    <tr>\n",
       "      <th>3</th>\n",
       "      <td>1000_251</td>\n",
       "      <td>1000</td>\n",
       "      <td>2018-12-27</td>\n",
       "      <td>12</td>\n",
       "    </tr>\n",
       "    <tr>\n",
       "      <th>4</th>\n",
       "      <td>1000_255</td>\n",
       "      <td>1000</td>\n",
       "      <td>2018-12-26</td>\n",
       "      <td>12</td>\n",
       "    </tr>\n",
       "    <tr>\n",
       "      <th>5</th>\n",
       "      <td>1000_346</td>\n",
       "      <td>1000</td>\n",
       "      <td>2018-12-29</td>\n",
       "      <td>12</td>\n",
       "    </tr>\n",
       "    <tr>\n",
       "      <th>6</th>\n",
       "      <td>1000_386</td>\n",
       "      <td>1000</td>\n",
       "      <td>2018-12-30</td>\n",
       "      <td>12</td>\n",
       "    </tr>\n",
       "    <tr>\n",
       "      <th>7</th>\n",
       "      <td>1000_413</td>\n",
       "      <td>1000</td>\n",
       "      <td>2018-12-31</td>\n",
       "      <td>12</td>\n",
       "    </tr>\n",
       "    <tr>\n",
       "      <th>8</th>\n",
       "      <td>1000_502</td>\n",
       "      <td>1000</td>\n",
       "      <td>2018-12-27</td>\n",
       "      <td>12</td>\n",
       "    </tr>\n",
       "    <tr>\n",
       "      <th>9</th>\n",
       "      <td>1000_525</td>\n",
       "      <td>1000</td>\n",
       "      <td>2018-12-28</td>\n",
       "      <td>12</td>\n",
       "    </tr>\n",
       "  </tbody>\n",
       "</table>\n",
       "</div>"
      ],
      "text/plain": [
       "         id  user_id message_date  month\n",
       "0  1000_125     1000   2018-12-27     12\n",
       "1  1000_160     1000   2018-12-31     12\n",
       "2  1000_223     1000   2018-12-31     12\n",
       "3  1000_251     1000   2018-12-27     12\n",
       "4  1000_255     1000   2018-12-26     12\n",
       "5  1000_346     1000   2018-12-29     12\n",
       "6  1000_386     1000   2018-12-30     12\n",
       "7  1000_413     1000   2018-12-31     12\n",
       "8  1000_502     1000   2018-12-27     12\n",
       "9  1000_525     1000   2018-12-28     12"
      ]
     },
     "execution_count": 30,
     "metadata": {},
     "output_type": "execute_result"
    }
   ],
   "source": [
    "#Impresión de los datos para verificación de nueva columna\n",
    "messages_data.head(10)"
   ]
  },
  {
   "cell_type": "markdown",
   "metadata": {
    "id": "6kUQ6JapY4-4"
   },
   "source": [
    "## Estudio de las condiciones del plan<a id = 'plan'></a>"
   ]
  },
  {
   "cell_type": "markdown",
   "metadata": {
    "id": "98EHHBaoY4-4"
   },
   "source": [
    "Como se ha mencionado con anterioridad la empresa maneja dos planes que acontinuación se desglosan lo que incluye(minutos, GB, mensajes, costo del plan y costo por conceptos excedentes):\n",
    "\n",
    "Surf\n",
    "*\tPago mensual: 20$\\$$\n",
    "*\t500 minutos al mes, 50 SMS y 15 GB de datos\n",
    "*\tSi se exceden los límites del paquete:\n",
    "*\t1 minuto: 3 centavos\n",
    "*\t1 SMS: 3 centavos\n",
    "*\t1 GB de datos: 10$\\$$\n",
    "\n",
    "Ultimate\n",
    "*\tPago mensual: 70$\\$$\n",
    "*\t3000 minutos al mes, 1000 SMS y 30 GB de datos\n",
    "*\tSi se exceden los límites del paquete:\n",
    "*\t1 minuto: 1 centavo\n",
    "*\t1 SMS: 1 centavo\n",
    "*\t1 GB de datos: 7$\\$$\n",
    "\n",
    "Es importante recalcar dos cosas:\n",
    "\n",
    "1. Las llamadas siempre se redondea hacia el siguiente minuto a partir del primer segundo, esto es por llamada no por total de minutos hablados al mes\n",
    "\n",
    "2. La suma total de datos al mes se redondean al siguiente GB, esto es apartir del siguiente mb utilizado después de haberse acabado el otrogado por el plan.\n",
    "\n",
    "A continuación se muestra de nuevo nuestra tabla de planes nuevamente y posteriormente haremos una función para el cálculo de la facturación del usuario de acuerdo a su plan\n"
   ]
  },
  {
   "cell_type": "code",
   "execution_count": 31,
   "metadata": {
    "colab": {
     "base_uri": "https://localhost:8080/",
     "height": 176
    },
    "id": "TLo4K5CZY4-4",
    "outputId": "b1807e59-855c-4f5b-837a-7b258fe449e4"
   },
   "outputs": [
    {
     "data": {
      "text/html": [
       "<div>\n",
       "<style scoped>\n",
       "    .dataframe tbody tr th:only-of-type {\n",
       "        vertical-align: middle;\n",
       "    }\n",
       "\n",
       "    .dataframe tbody tr th {\n",
       "        vertical-align: top;\n",
       "    }\n",
       "\n",
       "    .dataframe thead th {\n",
       "        text-align: right;\n",
       "    }\n",
       "</style>\n",
       "<table border=\"1\" class=\"dataframe\">\n",
       "  <thead>\n",
       "    <tr style=\"text-align: right;\">\n",
       "      <th></th>\n",
       "      <th>messages_included</th>\n",
       "      <th>mb_per_month_included</th>\n",
       "      <th>minutes_included</th>\n",
       "      <th>usd_monthly_pay</th>\n",
       "      <th>usd_per_gb</th>\n",
       "      <th>usd_per_message</th>\n",
       "      <th>usd_per_minute</th>\n",
       "      <th>plan_name</th>\n",
       "    </tr>\n",
       "  </thead>\n",
       "  <tbody>\n",
       "    <tr>\n",
       "      <th>0</th>\n",
       "      <td>50</td>\n",
       "      <td>15360</td>\n",
       "      <td>500</td>\n",
       "      <td>20</td>\n",
       "      <td>10</td>\n",
       "      <td>0.03</td>\n",
       "      <td>0.03</td>\n",
       "      <td>surf</td>\n",
       "    </tr>\n",
       "    <tr>\n",
       "      <th>1</th>\n",
       "      <td>1000</td>\n",
       "      <td>30720</td>\n",
       "      <td>3000</td>\n",
       "      <td>70</td>\n",
       "      <td>7</td>\n",
       "      <td>0.01</td>\n",
       "      <td>0.01</td>\n",
       "      <td>ultimate</td>\n",
       "    </tr>\n",
       "  </tbody>\n",
       "</table>\n",
       "</div>"
      ],
      "text/plain": [
       "   messages_included  mb_per_month_included  minutes_included  \\\n",
       "0                 50                  15360               500   \n",
       "1               1000                  30720              3000   \n",
       "\n",
       "   usd_monthly_pay  usd_per_gb  usd_per_message  usd_per_minute plan_name  \n",
       "0               20          10             0.03            0.03      surf  \n",
       "1               70           7             0.01            0.01  ultimate  "
      ]
     },
     "execution_count": 31,
     "metadata": {},
     "output_type": "execute_result"
    }
   ],
   "source": [
    "# Muestra de tabla de planes\n",
    "plans_data"
   ]
  },
  {
   "cell_type": "code",
   "execution_count": 32,
   "metadata": {},
   "outputs": [],
   "source": [
    "# Obtenemos nuestros Valores de la tabla\n",
    "\n",
    "# Obtener datos del plan surf\n",
    "plan_surf = plans_data[plans_data['plan_name']== 'surf']\n",
    "cost_surf = plan_surf['usd_monthly_pay'].values[0] # costo del plan\n",
    "minutes_surf = plan_surf['minutes_included'].values[0] # minutos de llamadas incluidos\n",
    "messages_surf = plan_surf['messages_included'].values[0] # mensajes incluidos\n",
    "data_surf = plan_surf['mb_per_month_included'].values[0]# datos incluidos\n",
    "extra_min_mes_surf = plan_surf['usd_per_message'].values[0] # cobro extra por mensaje y minuto de llamada incluidos\n",
    "extra_data_surf = plan_surf['usd_per_gb'].values[0] # cobro extra por datos\n",
    "\n",
    "# Obtener datos del plan surf\n",
    "plan_ultimate = plans_data[plans_data['plan_name']== 'ultimate']\n",
    "cost_ultimate = plan_ultimate['usd_monthly_pay'].values[0] # costo del plan\n",
    "minutes_ultimate = plan_ultimate['minutes_included'].values[0] # minutos de llamadas incluidos\n",
    "messages_ultimate = plan_ultimate['messages_included'].values[0] # mensajes incluidos\n",
    "data_ultimate = plan_ultimate['mb_per_month_included'].values[0]# datos incluidos\n",
    "extra_min_mes_ultimate = plan_ultimate['usd_per_message'].values[0] # cobro extra por mensaje y minuto de llamada incluidos\n",
    "extra_data_ultimate = plan_ultimate['usd_per_gb'].values[0] # cobro extra por datos"
   ]
  },
  {
   "cell_type": "code",
   "execution_count": 33,
   "metadata": {
    "id": "YntoQ8QMFVBw"
   },
   "outputs": [],
   "source": [
    "# Calcula el ingreso mensual para cada usuario\n",
    "def invoice(df):\n",
    "\n",
    "    total = 0\n",
    "    \n",
    "#Codigo para el cobro de los planes surf\n",
    "    if df['plan'] == 'surf':\n",
    "        total = cost_surf # Precio base\n",
    "        # Cobro por minutos extras de llamadas\n",
    "        if df['calls_duration'] > minutes_surf:\n",
    "            total += (df['calls_duration'] - minutes_surf) * extra_min_mes_surf\n",
    "        # Cobro por mensajes extras\n",
    "        if df['messages_by_month'] > messages_surf:\n",
    "            total += (df['messages_by_month'] - messages_surf) * extra_min_mes_surf\n",
    "        # Cobro por uso de datos excendente\n",
    "        if df['mb_used'] > data_surf:\n",
    "            total = (df['GB_used'] - (data_surf/1024))*extra_data_surf\n",
    "    \n",
    "#Codigo para el cobro de los planes ultimate\n",
    "    elif df['plan'] == 'ultimate':\n",
    "        total = cost_ultimate # Precio base\n",
    "        # Cobro por minutos extras de llamadas\n",
    "        if df['calls_duration'] > minutes_ultimate:\n",
    "            total += (df['calls_duration'] - minutes_ultimate) *  extra_min_mes_ultimate\n",
    "        # Cobro por mensajes extras\n",
    "        if df['messages_by_month'] > messages_ultimate:\n",
    "            total += (df['messages_by_month'] - messages_ultimate) *  extra_min_mes_ultimate\n",
    "        # Cobro por uso de dato excendente\n",
    "        if df['mb_used'] > data_ultimate:\n",
    "            total += (df['GB_used'] - (data_ultimate/1024))* extra_data_ultimate # Corrección de datos\n",
    "\n",
    "    return total"
   ]
  },
  {
   "cell_type": "markdown",
   "metadata": {
    "id": "nWHjEaB2Y4-4"
   },
   "source": [
    "## Agregar datos por usuario <a id = 'datos'></a>"
   ]
  },
  {
   "cell_type": "markdown",
   "metadata": {
    "id": "IBKpgU9UBKbC"
   },
   "source": [
    "Vamos a realizar una nueva tabla uniendo información específica de nuestras otras tables, vamos a agruparlas por alguna caracteristica y obtendremos ya sea un valor de cantidad de eventos o un promedio por mes.\n",
    "La tabla estará conformada por las siguientes columnas:\n",
    "\n",
    "* Id del usuario\n",
    "* Mes\n",
    "* Número de llamadas\n",
    "* duración de  las llamadas (estas ya estaran redondeadas según las condiciones de la empresa)\n",
    "* Número de mensajes\n",
    "* Cantidad de mb utilizados\n",
    "* Cantidad de mb redondeados a GB según las condiciones de la empresa\n",
    "* Plan al que pertenece el usuario\n",
    "* Su facturación"
   ]
  },
  {
   "cell_type": "code",
   "execution_count": 34,
   "metadata": {
    "id": "iH43iecCmrF5"
   },
   "outputs": [],
   "source": [
    "#Función para realizar agrupaciones necesarias\n",
    "\n",
    "def group_data (df, month_column, column , aggfunc = 'count'):\n",
    "    return df.groupby(['user_id', month_column], as_index = False)[column].agg(aggfunc)\n"
   ]
  },
  {
   "cell_type": "code",
   "execution_count": 35,
   "metadata": {
    "colab": {
     "base_uri": "https://localhost:8080/",
     "height": 206
    },
    "id": "zOip0evrY4-5",
    "outputId": "b9606aaf-4c11-42e7-a4c6-113ee1651c86"
   },
   "outputs": [
    {
     "data": {
      "text/html": [
       "<div>\n",
       "<style scoped>\n",
       "    .dataframe tbody tr th:only-of-type {\n",
       "        vertical-align: middle;\n",
       "    }\n",
       "\n",
       "    .dataframe tbody tr th {\n",
       "        vertical-align: top;\n",
       "    }\n",
       "\n",
       "    .dataframe thead th {\n",
       "        text-align: right;\n",
       "    }\n",
       "</style>\n",
       "<table border=\"1\" class=\"dataframe\">\n",
       "  <thead>\n",
       "    <tr style=\"text-align: right;\">\n",
       "      <th></th>\n",
       "      <th>user_id</th>\n",
       "      <th>month</th>\n",
       "      <th>call_date</th>\n",
       "    </tr>\n",
       "  </thead>\n",
       "  <tbody>\n",
       "    <tr>\n",
       "      <th>0</th>\n",
       "      <td>1000</td>\n",
       "      <td>12</td>\n",
       "      <td>16</td>\n",
       "    </tr>\n",
       "    <tr>\n",
       "      <th>1</th>\n",
       "      <td>1001</td>\n",
       "      <td>8</td>\n",
       "      <td>27</td>\n",
       "    </tr>\n",
       "    <tr>\n",
       "      <th>2</th>\n",
       "      <td>1001</td>\n",
       "      <td>9</td>\n",
       "      <td>49</td>\n",
       "    </tr>\n",
       "    <tr>\n",
       "      <th>3</th>\n",
       "      <td>1001</td>\n",
       "      <td>10</td>\n",
       "      <td>65</td>\n",
       "    </tr>\n",
       "    <tr>\n",
       "      <th>4</th>\n",
       "      <td>1001</td>\n",
       "      <td>11</td>\n",
       "      <td>64</td>\n",
       "    </tr>\n",
       "  </tbody>\n",
       "</table>\n",
       "</div>"
      ],
      "text/plain": [
       "   user_id  month  call_date\n",
       "0     1000     12         16\n",
       "1     1001      8         27\n",
       "2     1001      9         49\n",
       "3     1001     10         65\n",
       "4     1001     11         64"
      ]
     },
     "execution_count": 35,
     "metadata": {},
     "output_type": "execute_result"
    }
   ],
   "source": [
    "# Número de llamadas del usuario por mes\n",
    "calls_users_by_month = group_data(calls_data, 'month','call_date', 'count')#calls_data.pivot_table(index=['user_id', 'call_month'], values = 'call_date', aggfunc = 'count')\n",
    "#Mostramos resultado\n",
    "calls_users_by_month.head()"
   ]
  },
  {
   "cell_type": "code",
   "execution_count": 36,
   "metadata": {
    "colab": {
     "base_uri": "https://localhost:8080/",
     "height": 206
    },
    "id": "3s4eFzS2Y4-5",
    "outputId": "7b81955e-f6d2-4215-a96d-80b6b74fcd5a"
   },
   "outputs": [
    {
     "data": {
      "text/html": [
       "<div>\n",
       "<style scoped>\n",
       "    .dataframe tbody tr th:only-of-type {\n",
       "        vertical-align: middle;\n",
       "    }\n",
       "\n",
       "    .dataframe tbody tr th {\n",
       "        vertical-align: top;\n",
       "    }\n",
       "\n",
       "    .dataframe thead th {\n",
       "        text-align: right;\n",
       "    }\n",
       "</style>\n",
       "<table border=\"1\" class=\"dataframe\">\n",
       "  <thead>\n",
       "    <tr style=\"text-align: right;\">\n",
       "      <th></th>\n",
       "      <th>user_id</th>\n",
       "      <th>month</th>\n",
       "      <th>duration_rounded</th>\n",
       "    </tr>\n",
       "  </thead>\n",
       "  <tbody>\n",
       "    <tr>\n",
       "      <th>0</th>\n",
       "      <td>1000</td>\n",
       "      <td>12</td>\n",
       "      <td>124</td>\n",
       "    </tr>\n",
       "    <tr>\n",
       "      <th>1</th>\n",
       "      <td>1001</td>\n",
       "      <td>8</td>\n",
       "      <td>182</td>\n",
       "    </tr>\n",
       "    <tr>\n",
       "      <th>2</th>\n",
       "      <td>1001</td>\n",
       "      <td>9</td>\n",
       "      <td>315</td>\n",
       "    </tr>\n",
       "    <tr>\n",
       "      <th>3</th>\n",
       "      <td>1001</td>\n",
       "      <td>10</td>\n",
       "      <td>393</td>\n",
       "    </tr>\n",
       "    <tr>\n",
       "      <th>4</th>\n",
       "      <td>1001</td>\n",
       "      <td>11</td>\n",
       "      <td>426</td>\n",
       "    </tr>\n",
       "  </tbody>\n",
       "</table>\n",
       "</div>"
      ],
      "text/plain": [
       "   user_id  month  duration_rounded\n",
       "0     1000     12               124\n",
       "1     1001      8               182\n",
       "2     1001      9               315\n",
       "3     1001     10               393\n",
       "4     1001     11               426"
      ]
     },
     "execution_count": 36,
     "metadata": {},
     "output_type": "execute_result"
    }
   ],
   "source": [
    "# Número de minutos por mes por usuario\n",
    "duration_calls_users_by_month = group_data(calls_data, 'month', 'duration_rounded','sum')\n",
    "#Mostramos resultado\n",
    "duration_calls_users_by_month.head()\n"
   ]
  },
  {
   "cell_type": "code",
   "execution_count": 37,
   "metadata": {
    "colab": {
     "base_uri": "https://localhost:8080/",
     "height": 206
    },
    "id": "88Xx_sVUY4-5",
    "outputId": "623cef9c-5472-4a3a-804f-92b97e035735"
   },
   "outputs": [
    {
     "data": {
      "text/html": [
       "<div>\n",
       "<style scoped>\n",
       "    .dataframe tbody tr th:only-of-type {\n",
       "        vertical-align: middle;\n",
       "    }\n",
       "\n",
       "    .dataframe tbody tr th {\n",
       "        vertical-align: top;\n",
       "    }\n",
       "\n",
       "    .dataframe thead th {\n",
       "        text-align: right;\n",
       "    }\n",
       "</style>\n",
       "<table border=\"1\" class=\"dataframe\">\n",
       "  <thead>\n",
       "    <tr style=\"text-align: right;\">\n",
       "      <th></th>\n",
       "      <th>user_id</th>\n",
       "      <th>month</th>\n",
       "      <th>message_date</th>\n",
       "    </tr>\n",
       "  </thead>\n",
       "  <tbody>\n",
       "    <tr>\n",
       "      <th>0</th>\n",
       "      <td>1000</td>\n",
       "      <td>12</td>\n",
       "      <td>11</td>\n",
       "    </tr>\n",
       "    <tr>\n",
       "      <th>1</th>\n",
       "      <td>1001</td>\n",
       "      <td>8</td>\n",
       "      <td>30</td>\n",
       "    </tr>\n",
       "    <tr>\n",
       "      <th>2</th>\n",
       "      <td>1001</td>\n",
       "      <td>9</td>\n",
       "      <td>44</td>\n",
       "    </tr>\n",
       "    <tr>\n",
       "      <th>3</th>\n",
       "      <td>1001</td>\n",
       "      <td>10</td>\n",
       "      <td>53</td>\n",
       "    </tr>\n",
       "    <tr>\n",
       "      <th>4</th>\n",
       "      <td>1001</td>\n",
       "      <td>11</td>\n",
       "      <td>36</td>\n",
       "    </tr>\n",
       "  </tbody>\n",
       "</table>\n",
       "</div>"
      ],
      "text/plain": [
       "   user_id  month  message_date\n",
       "0     1000     12            11\n",
       "1     1001      8            30\n",
       "2     1001      9            44\n",
       "3     1001     10            53\n",
       "4     1001     11            36"
      ]
     },
     "execution_count": 37,
     "metadata": {},
     "output_type": "execute_result"
    }
   ],
   "source": [
    "# Número de minutos por mes por usuario\n",
    "messages_users_by_month = group_data(messages_data, 'month', 'message_date', 'count') \n",
    "#Mostramos resultado\n",
    "messages_users_by_month.head()\n"
   ]
  },
  {
   "cell_type": "code",
   "execution_count": 38,
   "metadata": {
    "colab": {
     "base_uri": "https://localhost:8080/",
     "height": 206
    },
    "id": "6LHzdA6KY4-5",
    "outputId": "ee6b6c37-addb-4d3c-89ba-933b51aa12b6"
   },
   "outputs": [
    {
     "data": {
      "text/html": [
       "<div>\n",
       "<style scoped>\n",
       "    .dataframe tbody tr th:only-of-type {\n",
       "        vertical-align: middle;\n",
       "    }\n",
       "\n",
       "    .dataframe tbody tr th {\n",
       "        vertical-align: top;\n",
       "    }\n",
       "\n",
       "    .dataframe thead th {\n",
       "        text-align: right;\n",
       "    }\n",
       "</style>\n",
       "<table border=\"1\" class=\"dataframe\">\n",
       "  <thead>\n",
       "    <tr style=\"text-align: right;\">\n",
       "      <th></th>\n",
       "      <th>user_id</th>\n",
       "      <th>month</th>\n",
       "      <th>mb_used</th>\n",
       "    </tr>\n",
       "  </thead>\n",
       "  <tbody>\n",
       "    <tr>\n",
       "      <th>0</th>\n",
       "      <td>1000</td>\n",
       "      <td>12</td>\n",
       "      <td>1901.47</td>\n",
       "    </tr>\n",
       "    <tr>\n",
       "      <th>1</th>\n",
       "      <td>1001</td>\n",
       "      <td>8</td>\n",
       "      <td>6919.15</td>\n",
       "    </tr>\n",
       "    <tr>\n",
       "      <th>2</th>\n",
       "      <td>1001</td>\n",
       "      <td>9</td>\n",
       "      <td>13314.82</td>\n",
       "    </tr>\n",
       "    <tr>\n",
       "      <th>3</th>\n",
       "      <td>1001</td>\n",
       "      <td>10</td>\n",
       "      <td>22330.49</td>\n",
       "    </tr>\n",
       "    <tr>\n",
       "      <th>4</th>\n",
       "      <td>1001</td>\n",
       "      <td>11</td>\n",
       "      <td>18504.30</td>\n",
       "    </tr>\n",
       "  </tbody>\n",
       "</table>\n",
       "</div>"
      ],
      "text/plain": [
       "   user_id  month   mb_used\n",
       "0     1000     12   1901.47\n",
       "1     1001      8   6919.15\n",
       "2     1001      9  13314.82\n",
       "3     1001     10  22330.49\n",
       "4     1001     11  18504.30"
      ]
     },
     "execution_count": 38,
     "metadata": {},
     "output_type": "execute_result"
    }
   ],
   "source": [
    "# Tabla con datos usados por mes y por usuario\n",
    "mb_internet_users_by_month = group_data(internet_data,'month', 'mb_used', 'sum')\n",
    "\n",
    "#Mostramos resultado\n",
    "mb_internet_users_by_month.head()"
   ]
  },
  {
   "cell_type": "markdown",
   "metadata": {
    "id": "0eAkB64qM_H7"
   },
   "source": [
    "Para nuestra tabla anterior vamos a agregar una nueva columna que contenga los mb transformados a GB y redondeados"
   ]
  },
  {
   "cell_type": "code",
   "execution_count": 39,
   "metadata": {
    "colab": {
     "base_uri": "https://localhost:8080/",
     "height": 206
    },
    "id": "k8d7cOs1Nqwh",
    "outputId": "b3eb9df1-b288-493b-88ff-b2e364190cf2"
   },
   "outputs": [
    {
     "data": {
      "text/html": [
       "<div>\n",
       "<style scoped>\n",
       "    .dataframe tbody tr th:only-of-type {\n",
       "        vertical-align: middle;\n",
       "    }\n",
       "\n",
       "    .dataframe tbody tr th {\n",
       "        vertical-align: top;\n",
       "    }\n",
       "\n",
       "    .dataframe thead th {\n",
       "        text-align: right;\n",
       "    }\n",
       "</style>\n",
       "<table border=\"1\" class=\"dataframe\">\n",
       "  <thead>\n",
       "    <tr style=\"text-align: right;\">\n",
       "      <th></th>\n",
       "      <th>user_id</th>\n",
       "      <th>month</th>\n",
       "      <th>mb_used</th>\n",
       "      <th>GB_used</th>\n",
       "    </tr>\n",
       "  </thead>\n",
       "  <tbody>\n",
       "    <tr>\n",
       "      <th>0</th>\n",
       "      <td>1000</td>\n",
       "      <td>12</td>\n",
       "      <td>1901.47</td>\n",
       "      <td>2.0</td>\n",
       "    </tr>\n",
       "    <tr>\n",
       "      <th>1</th>\n",
       "      <td>1001</td>\n",
       "      <td>8</td>\n",
       "      <td>6919.15</td>\n",
       "      <td>7.0</td>\n",
       "    </tr>\n",
       "    <tr>\n",
       "      <th>2</th>\n",
       "      <td>1001</td>\n",
       "      <td>9</td>\n",
       "      <td>13314.82</td>\n",
       "      <td>14.0</td>\n",
       "    </tr>\n",
       "    <tr>\n",
       "      <th>3</th>\n",
       "      <td>1001</td>\n",
       "      <td>10</td>\n",
       "      <td>22330.49</td>\n",
       "      <td>22.0</td>\n",
       "    </tr>\n",
       "    <tr>\n",
       "      <th>4</th>\n",
       "      <td>1001</td>\n",
       "      <td>11</td>\n",
       "      <td>18504.30</td>\n",
       "      <td>19.0</td>\n",
       "    </tr>\n",
       "  </tbody>\n",
       "</table>\n",
       "</div>"
      ],
      "text/plain": [
       "   user_id  month   mb_used  GB_used\n",
       "0     1000     12   1901.47      2.0\n",
       "1     1001      8   6919.15      7.0\n",
       "2     1001      9  13314.82     14.0\n",
       "3     1001     10  22330.49     22.0\n",
       "4     1001     11  18504.30     19.0"
      ]
     },
     "execution_count": 39,
     "metadata": {},
     "output_type": "execute_result"
    }
   ],
   "source": [
    "# Nueva columna para los valores transformados a GB\n",
    "mb_internet_users_by_month['GB_used'] = np.ceil( mb_internet_users_by_month['mb_used'].agg([lambda x : x/1024]))\n",
    "\n",
    "#Imprimir una muestra\n",
    "mb_internet_users_by_month.head()"
   ]
  },
  {
   "cell_type": "code",
   "execution_count": 40,
   "metadata": {
    "colab": {
     "base_uri": "https://localhost:8080/",
     "height": 206
    },
    "id": "fHuiccGtY4-6",
    "outputId": "7d839f44-fc36-4592-dbf1-6165af190b46",
    "scrolled": true
   },
   "outputs": [
    {
     "data": {
      "text/html": [
       "<div>\n",
       "<style scoped>\n",
       "    .dataframe tbody tr th:only-of-type {\n",
       "        vertical-align: middle;\n",
       "    }\n",
       "\n",
       "    .dataframe tbody tr th {\n",
       "        vertical-align: top;\n",
       "    }\n",
       "\n",
       "    .dataframe thead th {\n",
       "        text-align: right;\n",
       "    }\n",
       "</style>\n",
       "<table border=\"1\" class=\"dataframe\">\n",
       "  <thead>\n",
       "    <tr style=\"text-align: right;\">\n",
       "      <th></th>\n",
       "      <th>user_id</th>\n",
       "      <th>month</th>\n",
       "      <th>call_date</th>\n",
       "      <th>duration_rounded</th>\n",
       "      <th>message_date</th>\n",
       "      <th>mb_used</th>\n",
       "      <th>GB_used</th>\n",
       "    </tr>\n",
       "  </thead>\n",
       "  <tbody>\n",
       "    <tr>\n",
       "      <th>0</th>\n",
       "      <td>1000</td>\n",
       "      <td>12.0</td>\n",
       "      <td>16.0</td>\n",
       "      <td>124.0</td>\n",
       "      <td>11.0</td>\n",
       "      <td>1901.47</td>\n",
       "      <td>2.0</td>\n",
       "    </tr>\n",
       "    <tr>\n",
       "      <th>1</th>\n",
       "      <td>1001</td>\n",
       "      <td>8.0</td>\n",
       "      <td>27.0</td>\n",
       "      <td>182.0</td>\n",
       "      <td>30.0</td>\n",
       "      <td>6919.15</td>\n",
       "      <td>7.0</td>\n",
       "    </tr>\n",
       "    <tr>\n",
       "      <th>2</th>\n",
       "      <td>1001</td>\n",
       "      <td>9.0</td>\n",
       "      <td>49.0</td>\n",
       "      <td>315.0</td>\n",
       "      <td>44.0</td>\n",
       "      <td>13314.82</td>\n",
       "      <td>14.0</td>\n",
       "    </tr>\n",
       "    <tr>\n",
       "      <th>3</th>\n",
       "      <td>1001</td>\n",
       "      <td>10.0</td>\n",
       "      <td>65.0</td>\n",
       "      <td>393.0</td>\n",
       "      <td>53.0</td>\n",
       "      <td>22330.49</td>\n",
       "      <td>22.0</td>\n",
       "    </tr>\n",
       "    <tr>\n",
       "      <th>4</th>\n",
       "      <td>1001</td>\n",
       "      <td>11.0</td>\n",
       "      <td>64.0</td>\n",
       "      <td>426.0</td>\n",
       "      <td>36.0</td>\n",
       "      <td>18504.30</td>\n",
       "      <td>19.0</td>\n",
       "    </tr>\n",
       "    <tr>\n",
       "      <th>5</th>\n",
       "      <td>1001</td>\n",
       "      <td>12.0</td>\n",
       "      <td>56.0</td>\n",
       "      <td>412.0</td>\n",
       "      <td>44.0</td>\n",
       "      <td>19369.18</td>\n",
       "      <td>19.0</td>\n",
       "    </tr>\n",
       "    <tr>\n",
       "      <th>6</th>\n",
       "      <td>1002</td>\n",
       "      <td>10.0</td>\n",
       "      <td>11.0</td>\n",
       "      <td>59.0</td>\n",
       "      <td>15.0</td>\n",
       "      <td>6552.01</td>\n",
       "      <td>7.0</td>\n",
       "    </tr>\n",
       "    <tr>\n",
       "      <th>7</th>\n",
       "      <td>1002</td>\n",
       "      <td>11.0</td>\n",
       "      <td>55.0</td>\n",
       "      <td>386.0</td>\n",
       "      <td>32.0</td>\n",
       "      <td>19345.08</td>\n",
       "      <td>19.0</td>\n",
       "    </tr>\n",
       "    <tr>\n",
       "      <th>8</th>\n",
       "      <td>1002</td>\n",
       "      <td>12.0</td>\n",
       "      <td>47.0</td>\n",
       "      <td>384.0</td>\n",
       "      <td>41.0</td>\n",
       "      <td>14396.24</td>\n",
       "      <td>15.0</td>\n",
       "    </tr>\n",
       "    <tr>\n",
       "      <th>9</th>\n",
       "      <td>1003</td>\n",
       "      <td>12.0</td>\n",
       "      <td>149.0</td>\n",
       "      <td>1104.0</td>\n",
       "      <td>50.0</td>\n",
       "      <td>27044.14</td>\n",
       "      <td>27.0</td>\n",
       "    </tr>\n",
       "  </tbody>\n",
       "</table>\n",
       "</div>"
      ],
      "text/plain": [
       "   user_id  month  call_date  duration_rounded  message_date   mb_used  \\\n",
       "0     1000   12.0       16.0             124.0          11.0   1901.47   \n",
       "1     1001    8.0       27.0             182.0          30.0   6919.15   \n",
       "2     1001    9.0       49.0             315.0          44.0  13314.82   \n",
       "3     1001   10.0       65.0             393.0          53.0  22330.49   \n",
       "4     1001   11.0       64.0             426.0          36.0  18504.30   \n",
       "5     1001   12.0       56.0             412.0          44.0  19369.18   \n",
       "6     1002   10.0       11.0              59.0          15.0   6552.01   \n",
       "7     1002   11.0       55.0             386.0          32.0  19345.08   \n",
       "8     1002   12.0       47.0             384.0          41.0  14396.24   \n",
       "9     1003   12.0      149.0            1104.0          50.0  27044.14   \n",
       "\n",
       "   GB_used  \n",
       "0      2.0  \n",
       "1      7.0  \n",
       "2     14.0  \n",
       "3     22.0  \n",
       "4     19.0  \n",
       "5     19.0  \n",
       "6      7.0  \n",
       "7     19.0  \n",
       "8     15.0  \n",
       "9     27.0  "
      ]
     },
     "execution_count": 40,
     "metadata": {},
     "output_type": "execute_result"
    }
   ],
   "source": [
    "# Combinacion de datos para las llamadas, minutos, mensajes e internet con base en el user_id y el mes\n",
    "\n",
    "resume_df =pd.DataFrame(users_data['user_id']) # De nuestra users_data tomamos los id de nuestros usuarios\n",
    "#resume_df=resume_df.merge(calls_users_by_month,how = 'left')\n",
    "# resume_df = calls_users_by_month.merge(duration_calls_users_by_month, how='left')\n",
    "\n",
    "tables = [calls_users_by_month,duration_calls_users_by_month,messages_users_by_month,mb_internet_users_by_month]\n",
    "\n",
    "for element in tables:\n",
    "    resume_df = resume_df.merge(element, how = 'left')\n",
    "\n",
    "resume_df.head(10)"
   ]
  },
  {
   "cell_type": "markdown",
   "metadata": {
    "id": "eZx2MELE0cj-"
   },
   "source": [
    "Cambiaremos los nombres de algunas de nuestras columnas para que sea más claro de interpretar la tabla"
   ]
  },
  {
   "cell_type": "code",
   "execution_count": 41,
   "metadata": {
    "id": "UPO_DVZ40b0T"
   },
   "outputs": [],
   "source": [
    "#Cambiar nombres de columnas\n",
    "\n",
    "resume_df = resume_df.rename(columns = {'call_date': 'calls_by_month',\n",
    "                                 'duration_rounded':'calls_duration',\n",
    "                                 'message_date': 'messages_by_month',\n",
    "                                }\n",
    ")"
   ]
  },
  {
   "cell_type": "code",
   "execution_count": 42,
   "metadata": {
    "colab": {
     "base_uri": "https://localhost:8080/",
     "height": 206
    },
    "id": "qF0eYsj8Y4-6",
    "outputId": "9507d5d1-1283-4d18-fee6-db132aba49be"
   },
   "outputs": [
    {
     "data": {
      "text/html": [
       "<div>\n",
       "<style scoped>\n",
       "    .dataframe tbody tr th:only-of-type {\n",
       "        vertical-align: middle;\n",
       "    }\n",
       "\n",
       "    .dataframe tbody tr th {\n",
       "        vertical-align: top;\n",
       "    }\n",
       "\n",
       "    .dataframe thead th {\n",
       "        text-align: right;\n",
       "    }\n",
       "</style>\n",
       "<table border=\"1\" class=\"dataframe\">\n",
       "  <thead>\n",
       "    <tr style=\"text-align: right;\">\n",
       "      <th></th>\n",
       "      <th>user_id</th>\n",
       "      <th>month</th>\n",
       "      <th>calls_by_month</th>\n",
       "      <th>calls_duration</th>\n",
       "      <th>messages_by_month</th>\n",
       "      <th>mb_used</th>\n",
       "      <th>GB_used</th>\n",
       "      <th>plan</th>\n",
       "    </tr>\n",
       "  </thead>\n",
       "  <tbody>\n",
       "    <tr>\n",
       "      <th>0</th>\n",
       "      <td>1000</td>\n",
       "      <td>12.0</td>\n",
       "      <td>16.0</td>\n",
       "      <td>124.0</td>\n",
       "      <td>11.0</td>\n",
       "      <td>1901.47</td>\n",
       "      <td>2.0</td>\n",
       "      <td>ultimate</td>\n",
       "    </tr>\n",
       "    <tr>\n",
       "      <th>1</th>\n",
       "      <td>1001</td>\n",
       "      <td>8.0</td>\n",
       "      <td>27.0</td>\n",
       "      <td>182.0</td>\n",
       "      <td>30.0</td>\n",
       "      <td>6919.15</td>\n",
       "      <td>7.0</td>\n",
       "      <td>surf</td>\n",
       "    </tr>\n",
       "    <tr>\n",
       "      <th>2</th>\n",
       "      <td>1001</td>\n",
       "      <td>9.0</td>\n",
       "      <td>49.0</td>\n",
       "      <td>315.0</td>\n",
       "      <td>44.0</td>\n",
       "      <td>13314.82</td>\n",
       "      <td>14.0</td>\n",
       "      <td>surf</td>\n",
       "    </tr>\n",
       "    <tr>\n",
       "      <th>3</th>\n",
       "      <td>1001</td>\n",
       "      <td>10.0</td>\n",
       "      <td>65.0</td>\n",
       "      <td>393.0</td>\n",
       "      <td>53.0</td>\n",
       "      <td>22330.49</td>\n",
       "      <td>22.0</td>\n",
       "      <td>surf</td>\n",
       "    </tr>\n",
       "    <tr>\n",
       "      <th>4</th>\n",
       "      <td>1001</td>\n",
       "      <td>11.0</td>\n",
       "      <td>64.0</td>\n",
       "      <td>426.0</td>\n",
       "      <td>36.0</td>\n",
       "      <td>18504.30</td>\n",
       "      <td>19.0</td>\n",
       "      <td>surf</td>\n",
       "    </tr>\n",
       "  </tbody>\n",
       "</table>\n",
       "</div>"
      ],
      "text/plain": [
       "   user_id  month  calls_by_month  calls_duration  messages_by_month  \\\n",
       "0     1000   12.0            16.0           124.0               11.0   \n",
       "1     1001    8.0            27.0           182.0               30.0   \n",
       "2     1001    9.0            49.0           315.0               44.0   \n",
       "3     1001   10.0            65.0           393.0               53.0   \n",
       "4     1001   11.0            64.0           426.0               36.0   \n",
       "\n",
       "    mb_used  GB_used      plan  \n",
       "0   1901.47      2.0  ultimate  \n",
       "1   6919.15      7.0      surf  \n",
       "2  13314.82     14.0      surf  \n",
       "3  22330.49     22.0      surf  \n",
       "4  18504.30     19.0      surf  "
      ]
     },
     "execution_count": 42,
     "metadata": {},
     "output_type": "execute_result"
    }
   ],
   "source": [
    "# Añade el plan de cada usuario\n",
    "resume_df = resume_df.merge(users_data[['user_id','plan']], how='left')\n",
    "\n",
    "# muestra del plan\n",
    "resume_df.head()"
   ]
  },
  {
   "cell_type": "markdown",
   "metadata": {
    "id": "Kw3UP078Y4-6"
   },
   "source": [
    "Aplicaremos la función creada en nuestro apartado de Estudio de las condiciones del plan a la tabla anterior para calcular la facturación por mes del usuario."
   ]
  },
  {
   "cell_type": "code",
   "execution_count": 43,
   "metadata": {
    "colab": {
     "base_uri": "https://localhost:8080/",
     "height": 363
    },
    "id": "5V5f7-GkJ7eE",
    "outputId": "01f139ff-91cb-480e-d2df-c45149216d61"
   },
   "outputs": [
    {
     "data": {
      "text/html": [
       "<div>\n",
       "<style scoped>\n",
       "    .dataframe tbody tr th:only-of-type {\n",
       "        vertical-align: middle;\n",
       "    }\n",
       "\n",
       "    .dataframe tbody tr th {\n",
       "        vertical-align: top;\n",
       "    }\n",
       "\n",
       "    .dataframe thead th {\n",
       "        text-align: right;\n",
       "    }\n",
       "</style>\n",
       "<table border=\"1\" class=\"dataframe\">\n",
       "  <thead>\n",
       "    <tr style=\"text-align: right;\">\n",
       "      <th></th>\n",
       "      <th>user_id</th>\n",
       "      <th>month</th>\n",
       "      <th>calls_by_month</th>\n",
       "      <th>calls_duration</th>\n",
       "      <th>messages_by_month</th>\n",
       "      <th>mb_used</th>\n",
       "      <th>GB_used</th>\n",
       "      <th>plan</th>\n",
       "      <th>invoice</th>\n",
       "    </tr>\n",
       "  </thead>\n",
       "  <tbody>\n",
       "    <tr>\n",
       "      <th>0</th>\n",
       "      <td>1000</td>\n",
       "      <td>12.0</td>\n",
       "      <td>16.0</td>\n",
       "      <td>124.0</td>\n",
       "      <td>11.0</td>\n",
       "      <td>1901.47</td>\n",
       "      <td>2.0</td>\n",
       "      <td>ultimate</td>\n",
       "      <td>70.0</td>\n",
       "    </tr>\n",
       "    <tr>\n",
       "      <th>1</th>\n",
       "      <td>1001</td>\n",
       "      <td>8.0</td>\n",
       "      <td>27.0</td>\n",
       "      <td>182.0</td>\n",
       "      <td>30.0</td>\n",
       "      <td>6919.15</td>\n",
       "      <td>7.0</td>\n",
       "      <td>surf</td>\n",
       "      <td>20.0</td>\n",
       "    </tr>\n",
       "    <tr>\n",
       "      <th>2</th>\n",
       "      <td>1001</td>\n",
       "      <td>9.0</td>\n",
       "      <td>49.0</td>\n",
       "      <td>315.0</td>\n",
       "      <td>44.0</td>\n",
       "      <td>13314.82</td>\n",
       "      <td>14.0</td>\n",
       "      <td>surf</td>\n",
       "      <td>20.0</td>\n",
       "    </tr>\n",
       "    <tr>\n",
       "      <th>3</th>\n",
       "      <td>1001</td>\n",
       "      <td>10.0</td>\n",
       "      <td>65.0</td>\n",
       "      <td>393.0</td>\n",
       "      <td>53.0</td>\n",
       "      <td>22330.49</td>\n",
       "      <td>22.0</td>\n",
       "      <td>surf</td>\n",
       "      <td>70.0</td>\n",
       "    </tr>\n",
       "    <tr>\n",
       "      <th>4</th>\n",
       "      <td>1001</td>\n",
       "      <td>11.0</td>\n",
       "      <td>64.0</td>\n",
       "      <td>426.0</td>\n",
       "      <td>36.0</td>\n",
       "      <td>18504.30</td>\n",
       "      <td>19.0</td>\n",
       "      <td>surf</td>\n",
       "      <td>40.0</td>\n",
       "    </tr>\n",
       "  </tbody>\n",
       "</table>\n",
       "</div>"
      ],
      "text/plain": [
       "   user_id  month  calls_by_month  calls_duration  messages_by_month  \\\n",
       "0     1000   12.0            16.0           124.0               11.0   \n",
       "1     1001    8.0            27.0           182.0               30.0   \n",
       "2     1001    9.0            49.0           315.0               44.0   \n",
       "3     1001   10.0            65.0           393.0               53.0   \n",
       "4     1001   11.0            64.0           426.0               36.0   \n",
       "\n",
       "    mb_used  GB_used      plan  invoice  \n",
       "0   1901.47      2.0  ultimate     70.0  \n",
       "1   6919.15      7.0      surf     20.0  \n",
       "2  13314.82     14.0      surf     20.0  \n",
       "3  22330.49     22.0      surf     70.0  \n",
       "4  18504.30     19.0      surf     40.0  "
      ]
     },
     "execution_count": 43,
     "metadata": {},
     "output_type": "execute_result"
    }
   ],
   "source": [
    "#Aplicación de la función para saber la cuenta del usuario por mes\n",
    "resume_df['invoice'] = resume_df.apply(invoice, axis = 1)\n",
    "\n",
    "#Verificación de tabla con nueva columna\n",
    "resume_df.head()"
   ]
  },
  {
   "cell_type": "markdown",
   "metadata": {
    "id": "Ms1AEbGmY4-7"
   },
   "source": [
    "## Estudio del comportamiento del usuario<a id = 'estudio'></a>"
   ]
  },
  {
   "cell_type": "markdown",
   "metadata": {
    "id": "n31kqDBfY4-7"
   },
   "source": [
    "Para el estudio realizaremos 4 funciones que nos ayudarán a realizar nuestras gráficas. Aquí se observaran el comportamiento de los usuarios por mes para las características de:\n",
    "\n",
    "* Número y duración de llamadas\n",
    "* Número de mensajes\n",
    "* Datos utilizados"
   ]
  },
  {
   "cell_type": "code",
   "execution_count": 44,
   "metadata": {
    "id": "Y47XTPqKa_T2"
   },
   "outputs": [],
   "source": [
    "#Función para graficar barras por mes\n",
    "def plot_bar(values, title):\n",
    "    (\n",
    "    resume_df\n",
    "    .pivot_table(index = 'month', values = values)\n",
    "    .plot(kind= 'bar', title = title)\n",
    "    )\n",
    "    plt.show()\n",
    "\n",
    "\n",
    "# Función para gráficas de histogramas por plan\n",
    "\n",
    "def plot_hist(column, x_label, title_1, title_2, title_general):\n",
    "    fig, (ax1, ax2) = plt.subplots(1,2, figsize = (10,6))\n",
    "    ax1.hist(resume_df[resume_df['plan'] == 'surf'][column],bins = 30)\n",
    "    ax1.set_title(title_1)\n",
    "    ax1.set_xlabel(x_label)\n",
    "    ax1.set_ylabel('Frecuency')\n",
    "\n",
    "    ax2.hist(resume_df[resume_df['plan'] == 'ultimate'][column],bins = 30)\n",
    "    ax2.set_title(title_2)\n",
    "    ax2.set_xlabel(x_label)\n",
    "    ax2.set_ylabel('Frecuency')\n",
    "\n",
    "    fig.suptitle(title_general)\n",
    "    plt.show()\n",
    "\n",
    "#Calculo de media y varianza\n",
    "def mean_median(column):\n",
    "    #Mean and var\n",
    "    mean_var = []\n",
    "    plan = ['ultimate', 'surf']\n",
    "    # Calcula la media y la varianza de la duración mensual de llamadas.\n",
    "    for element in plan:\n",
    "        mean_var.append(resume_df[resume_df['plan'] == element][column].mean())\n",
    "        mean_var.append(np.var(resume_df[resume_df['plan'] == element][column]))\n",
    "    return  mean_var\n",
    "\n",
    "#Realización de boxplot\n",
    "def plot_boxplot(column,title,ylabel):\n",
    "    resume_df.boxplot(column = column, figsize = (7,5), by = 'plan' )\n",
    "    plt.title(title)\n",
    "    plt.ylabel(ylabel)\n",
    "    plt.show()"
   ]
  },
  {
   "cell_type": "markdown",
   "metadata": {
    "id": "Hp66VKQDY4-7"
   },
   "source": [
    "### Llamadas<a id='llamadas'></a>"
   ]
  },
  {
   "cell_type": "code",
   "execution_count": 45,
   "metadata": {
    "colab": {
     "base_uri": "https://localhost:8080/",
     "height": 475
    },
    "id": "6rlN4t4YY4-7",
    "outputId": "771070ce-bc9b-4963-efd8-97bbdc199bb4"
   },
   "outputs": [
    {
     "data": {
      "image/png": "[encoded data removed]",
      "text/plain": [
       "<Figure size 432x288 with 1 Axes>"
      ]
     },
     "metadata": {
      "needs_background": "light"
     },
     "output_type": "display_data"
    }
   ],
   "source": [
    "# Gráfica de barras de llamadas por mes\n",
    "plot_bar('calls_duration','Mean of calls duration by month')"
   ]
  },
  {
   "cell_type": "code",
   "execution_count": 46,
   "metadata": {
    "colab": {
     "base_uri": "https://localhost:8080/",
     "height": 602
    },
    "id": "TdVgwGVuY4-8",
    "outputId": "81f8f080-0ef9-45da-8840-d43118938b06"
   },
   "outputs": [
    {
     "data": {
      "image/png": "[encoded data removed]",
      "text/plain": [
       "<Figure size 720x432 with 2 Axes>"
      ]
     },
     "metadata": {
      "needs_background": "light"
     },
     "output_type": "display_data"
    }
   ],
   "source": [
    "# Llamadas al mes por planes\n",
    "\n",
    "plot_hist('calls_duration','calls duration',\n",
    "          'Calls duration by \"Surf\" plan histogram',\n",
    "          'Calls duration by \"Ultimate\" plan histogram',\n",
    "          'Calls duration distribution by Surf and Ultimate plans Histograms')\n"
   ]
  },
  {
   "cell_type": "markdown",
   "metadata": {
    "id": "XmUJc2hXQGdg"
   },
   "source": [
    "Observamos que ambas graficas están sesgadas hacia la derecha.\n",
    "\n",
    "- Histograma del plan **\"Surf\"**: Aqui observamos un pico entre 400 y 450 minutos de duració y tenemos algún valores superiores de 1000 por lo que existe gente que excede los límites de minutos del plan\n",
    "\n",
    "- Histograma del plan **\"Ultimate\"**: Observamos que nuestro pico está más o menos parecido que en el plan de surf (entre 400 y 450), observamos que aquí no se superó el límite del plan\n",
    "\n"
   ]
  },
  {
   "cell_type": "code",
   "execution_count": 47,
   "metadata": {
    "colab": {
     "base_uri": "https://localhost:8080/"
    },
    "id": "SGaF94_SY4-8",
    "outputId": "d6517aa1-da82-439d-f315-54cb8dcc4f4d"
   },
   "outputs": [
    {
     "name": "stdout",
     "output_type": "stream",
     "text": [
      "Plan Ultimate Media: 434.68, Varianza: 56494.29, Desviación: 237.69\n",
      "~~~~~~~~~~~~~~~~~~~~~~~~~~~~~~~~~~~~~~~~~~~~~~~~~~~~~~~~~~~~~\n",
      "Plan Surf Media: 436.52, Varianza: 52537.037, Desviación: 229.21\n"
     ]
    }
   ],
   "source": [
    "# Calculo de la media y la varianza de la duración mensual de llamadas.\n",
    "\n",
    "call_values = mean_median('calls_duration')\n",
    "\n",
    "#Imprimimos nuestros valores\n",
    "print(f'Plan Ultimate Media:{call_values[0]: .2F}, Varianza:{call_values[1]: .2f}, Desviación:{np.sqrt(call_values[1]): .2f}')\n",
    "print('~~~~~~~~~~~~~~~~~~~~~~~~~~~~~~~~~~~~~~~~~~~~~~~~~~~~~~~~~~~~~')\n",
    "print(f'Plan Surf Media:{call_values[2]: .2f}, Varianza:{call_values[3]: .3f}, Desviación:{np.sqrt(call_values[3]): .2f}')"
   ]
  },
  {
   "cell_type": "code",
   "execution_count": 48,
   "metadata": {
    "colab": {
     "base_uri": "https://localhost:8080/",
     "height": 495
    },
    "id": "Bj2iZNG-Y4-8",
    "outputId": "17ebc5d7-38c1-4173-c210-59ca683cc5f5"
   },
   "outputs": [
    {
     "data": {
      "image/png": "[encoded data removed]",
      "text/plain": [
       "<Figure size 504x360 with 1 Axes>"
      ]
     },
     "metadata": {
      "needs_background": "light"
     },
     "output_type": "display_data"
    }
   ],
   "source": [
    "# Diagrama de caja llamadas\n",
    "plot_boxplot('calls_duration','Calls duration Boxplot','calls_duration')"
   ]
  },
  {
   "cell_type": "markdown",
   "metadata": {
    "id": "9iEjni-aY4-8"
   },
   "source": [
    "**Conclusión intermedia**\n",
    "\n",
    "En nuestra gráfica de barras observamos que el mes en donde se realizan más llamadas es en el mes de Diciembre, posiblemete por las fiestas de navidad y año nuevo. \n",
    "\n",
    "En nuestros histogramas observamos que ambos planes tienen el mismo sesgo y que  los usuarios del plan surf en cierta cantidad se pasan de sus límites, mientras los usuarios del otro plan no.\n",
    "\n",
    "Una vez realizado el calculo de las medias, varianzas y desviación observamos que están cercanas. Y finalmente vemos en nuestro boxplot que se tiene una distribución bastante pareja con algunos valores atípicos. "
   ]
  },
  {
   "cell_type": "markdown",
   "metadata": {
    "id": "_TsLnJo3Y4-9"
   },
   "source": [
    "### Mensajes<a id='mensajes'></a>"
   ]
  },
  {
   "cell_type": "code",
   "execution_count": 49,
   "metadata": {
    "colab": {
     "base_uri": "https://localhost:8080/",
     "height": 475
    },
    "id": "ZhbGkMQXY4-9",
    "outputId": "0d498729-13ec-4018-bea9-fe72210a21bd"
   },
   "outputs": [
    {
     "data": {
      "image/png": "[encoded data removed]",
      "text/plain": [
       "<Figure size 432x288 with 1 Axes>"
      ]
     },
     "metadata": {
      "needs_background": "light"
     },
     "output_type": "display_data"
    }
   ],
   "source": [
    "# Grafica de mensajes al mes\n",
    "plot_bar('messages_by_month','Mean of Messages by month')"
   ]
  },
  {
   "cell_type": "code",
   "execution_count": 50,
   "metadata": {
    "colab": {
     "base_uri": "https://localhost:8080/",
     "height": 602
    },
    "id": "N85XVx63hMpC",
    "outputId": "ac68b6b6-df70-4d44-b8cc-a6ecfcb4c660"
   },
   "outputs": [
    {
     "data": {
      "image/png": "[encoded data removed]",
      "text/plain": [
       "<Figure size 720x432 with 2 Axes>"
      ]
     },
     "metadata": {
      "needs_background": "light"
     },
     "output_type": "display_data"
    }
   ],
   "source": [
    "#Mensajes al mes por tipo de plan\n",
    "plot_hist('messages_by_month','messages',\n",
    "          'Messages by \"Surf\" plan histogram',\n",
    "          'Messages by \"Ultimate\" plan histogram',\n",
    "          'Messages distribution by Surf and Ultimate plans Histograms')"
   ]
  },
  {
   "cell_type": "markdown",
   "metadata": {
    "id": "1BZ4vLNGlgII"
   },
   "source": [
    "Observamos que ambas al igual que en la columna de llamadas que las graficas están sesgadas hacia la derecha.\n",
    "\n",
    "- Histograma del plan **\"Surf\"**: Aqui observamos un pico entre 20 y 25 mensajes y tenemos varios valores superiores a 50 que es el límite de  del plan\n",
    "\n",
    "- Histograma del plan **\"Ultimate\"**: Observamos que nuestro pico está más o menos el el rango entre 25 y 30, observamos que aquí no se superó el límite del plan, tampoco hay algún valor cercano a este límite\n"
   ]
  },
  {
   "cell_type": "code",
   "execution_count": 51,
   "metadata": {
    "colab": {
     "base_uri": "https://localhost:8080/"
    },
    "id": "SxabC0L_Y4-9",
    "outputId": "6b575cf8-c6fa-401d-92a8-d229d0da7ca5"
   },
   "outputs": [
    {
     "name": "stdout",
     "output_type": "stream",
     "text": [
      "Plan Ultimate Media: 46.46, Varianza: 1082.52, Desviación: 32.90\n",
      "~~~~~~~~~~~~~~~~~~~~~~~~~~~~~~~~~~~~~~~~~~~~~~~~~~~~~~~~~~\n",
      "Plan Surf Media: 39.98, Varianza: 1100.615, Desviación: 33.18\n"
     ]
    }
   ],
   "source": [
    "#Obtenemos nuestras medias y varianzas\n",
    "messages_values = mean_median('messages_by_month')\n",
    "\n",
    "#Imprimimos nuestros valores\n",
    "print(f'Plan Ultimate Media:{messages_values[0]: .2F}, Varianza:{messages_values[1]: .2f}, Desviación:{np.sqrt(messages_values[1]): .2f}')\n",
    "print('~~~~~~~~~~~~~~~~~~~~~~~~~~~~~~~~~~~~~~~~~~~~~~~~~~~~~~~~~~')\n",
    "print(f'Plan Surf Media:{messages_values[2]: .2f}, Varianza:{messages_values[3]: .3f}, Desviación:{np.sqrt(messages_values[3]): .2f}')"
   ]
  },
  {
   "cell_type": "code",
   "execution_count": 52,
   "metadata": {
    "colab": {
     "base_uri": "https://localhost:8080/",
     "height": 495
    },
    "id": "_zn7yRc9Y4-9",
    "outputId": "6b570587-d18c-4778-ef49-f286366a5184"
   },
   "outputs": [
    {
     "data": {
      "image/png": "[encoded data removed]",
      "text/plain": [
       "<Figure size 504x360 with 1 Axes>"
      ]
     },
     "metadata": {
      "needs_background": "light"
     },
     "output_type": "display_data"
    }
   ],
   "source": [
    "# Diagrama de caja mensajes\n",
    "plot_boxplot('messages_by_month','Calls duration Median','messages')"
   ]
  },
  {
   "cell_type": "markdown",
   "metadata": {
    "id": "13k96KztY4-9"
   },
   "source": [
    "**Conclusión intermedia**\n",
    "\n",
    "En nuestra gráfica de barras observamos que el mes en donde se realizan más mensajes es en el mes de Diciembre, al igual que en el apartado de llamadas se puede deber a las fiestas de navidad y año nuevo. \n",
    "\n",
    "En nuestros histogramas observamos que ambos planes tienen el mismo sesgo y que  los usuarios del plan surf en cierta cantidad se pasan de sus límites, mientras los usuarios del otro plan no.\n",
    "\n",
    "En los calculos de las medias, varianzas y desviación observamos que están un poco más dispersas que en la situación de las medianas. Y finalmente vemos en nuestro boxplot que los usuarios de los planes de ultimate tienden a enviar más mensajes que los usuarios del plan surf"
   ]
  },
  {
   "cell_type": "markdown",
   "metadata": {
    "id": "yBvcRlLIY4--"
   },
   "source": [
    "### Internet <a id='internet'></a>"
   ]
  },
  {
   "cell_type": "code",
   "execution_count": 53,
   "metadata": {
    "colab": {
     "base_uri": "https://localhost:8080/",
     "height": 475
    },
    "id": "W1TJPaAGY4--",
    "outputId": "501aadd0-e5d6-49e1-e449-baf061fe2314"
   },
   "outputs": [
    {
     "data": {
      "image/png": "[encoded data removed]",
      "text/plain": [
       "<Figure size 432x288 with 1 Axes>"
      ]
     },
     "metadata": {
      "needs_background": "light"
     },
     "output_type": "display_data"
    }
   ],
   "source": [
    "# Grafica de uso de internet al mes\n",
    "plot_bar('GB_used','Mean of data used by month')"
   ]
  },
  {
   "cell_type": "code",
   "execution_count": 54,
   "metadata": {
    "colab": {
     "base_uri": "https://localhost:8080/",
     "height": 602
    },
    "id": "OxpkyNXJY4--",
    "outputId": "d98ab40a-535a-4429-9f6d-bb44de438981"
   },
   "outputs": [
    {
     "data": {
      "image/png": "[encoded data removed]",
      "text/plain": [
       "<Figure size 720x432 with 2 Axes>"
      ]
     },
     "metadata": {
      "needs_background": "light"
     },
     "output_type": "display_data"
    }
   ],
   "source": [
    "#Mensajes al mes por tipo de plan\n",
    "plot_hist('GB_used','Data used (GB)',\n",
    "          'Data used by \"Surf\" plan histogram',\n",
    "          'Data used by \"Ultimate\" plan histogram',\n",
    "          'Data used distribution by Surf and Ultimate plans Histograms')"
   ]
  },
  {
   "cell_type": "markdown",
   "metadata": {
    "id": "DNZx3ZaRqrbi"
   },
   "source": [
    "Observamos que ambas al igual que en la columna de llamadas que las graficas están sesgadas hacia la derecha, aunque para la distribución de los planes de ultimate se notan más picos.\n",
    "\n",
    "- Histograma del plan **\"Surf\"**: Aqui observamos un pico entre 15 y 20 mensajes y tenemos varios valores superiores a 15 nuestro límite para este plan, tambíen hay algunos valores más arriba de 50\n",
    "\n",
    "- Histograma del plan **\"Ultimate\"**: Observamos que nuestro pico está más o menos el el rango entre 15 y 20, observamos que aquí no se superó el límite del plan a diferencia de los otros apartados notamos que si exiten usuarios que sobrepasaron el límite, inclusive se nota un pico más omenos entre 36 a 38 GB aproximadamente"
   ]
  },
  {
   "cell_type": "code",
   "execution_count": 55,
   "metadata": {
    "colab": {
     "base_uri": "https://localhost:8080/"
    },
    "id": "pJz7X_iGY4--",
    "outputId": "8445ccee-b4f4-4dcd-e88f-b9518c193ca1"
   },
   "outputs": [
    {
     "name": "stdout",
     "output_type": "stream",
     "text": [
      "Plan Ultimate Media: 17.37, Varianza: 57.38, Desviación: 7.57\n",
      "~~~~~~~~~~~~~~~~~~~~~~~~~~~~~~~~~~~~~~~~~~~~~~~~~~~~~~~~~\n",
      "Plan Surf Media: 16.78, Varianza: 56.908, Desviación: 7.54\n"
     ]
    }
   ],
   "source": [
    "#Obtenemos nuestras medias y varianzas\n",
    "internet_values = mean_median('GB_used')\n",
    "\n",
    "#Imprimimos nuestros valores\n",
    "print(f'Plan Ultimate Media:{internet_values[0]: .2F}, Varianza:{internet_values[1]: .2f}, Desviación:{np.sqrt(internet_values[1]): .2f}')\n",
    "print('~~~~~~~~~~~~~~~~~~~~~~~~~~~~~~~~~~~~~~~~~~~~~~~~~~~~~~~~~')\n",
    "print(f'Plan Surf Media:{internet_values[2]: .2f}, Varianza:{internet_values[3]: .3f}, Desviación:{np.sqrt(internet_values[3]): .2f}')"
   ]
  },
  {
   "cell_type": "code",
   "execution_count": 56,
   "metadata": {
    "colab": {
     "base_uri": "https://localhost:8080/",
     "height": 495
    },
    "id": "kZAJFUatkh3k",
    "outputId": "91f61f95-11e3-4216-9ad1-9cf2c48ecde6"
   },
   "outputs": [
    {
     "data": {
      "image/png": "[encoded data removed]",
      "text/plain": [
       "<Figure size 504x360 with 1 Axes>"
      ]
     },
     "metadata": {
      "needs_background": "light"
     },
     "output_type": "display_data"
    }
   ],
   "source": [
    "# Diagrama de caja mensajes\n",
    "plot_boxplot('GB_used','GB used boxplot','GB_used')"
   ]
  },
  {
   "cell_type": "markdown",
   "metadata": {
    "id": "pY8A2BDMY4--"
   },
   "source": [
    "**Conclusión intermedia**\n",
    "\n",
    "En nuestra gráfica de barras observamos que el mes en donde se utilizan más datos es en el mes de Diciembre, al igual que en nuestros anteriores apartados se puede deber a las fiestas de navidad y año nuevo. Tambíen se nota que en general aumenta el uso de datos conforme pasan los meses.\n",
    "\n",
    "En nuestros histogramas observamos que ambos planes tienen el mismo sesgo pero la gráfica del plan ultimate tiene varios picos, en este apartado existen usuarios de ambos planes que rebasaron los límites\n",
    "\n",
    "En los calculos de las medias, varianzas y desviación observamos que están muy similares, la desviación estandar está más cerca por lo que la dispersión es más bajas. \n",
    "\n",
    "En el boxplot podemos observar como la mediana esta cercana entre ambos planes, tambíen notamos que el sego en nuestro plan surf esta un poco más hacía la izquierda."
   ]
  },
  {
   "cell_type": "markdown",
   "metadata": {
    "id": "YUu7wMlyY4--"
   },
   "source": [
    "### Ingreso<a id='ingreso'></a>"
   ]
  },
  {
   "cell_type": "code",
   "execution_count": 57,
   "metadata": {
    "colab": {
     "base_uri": "https://localhost:8080/",
     "height": 475
    },
    "id": "YUC2eiw7kupG",
    "outputId": "0bdf3bd8-a986-41e6-d2fc-2c328f7a4af2"
   },
   "outputs": [
    {
     "data": {
      "image/png": "[encoded data removed]",
      "text/plain": [
       "<Figure size 432x288 with 1 Axes>"
      ]
     },
     "metadata": {
      "needs_background": "light"
     },
     "output_type": "display_data"
    }
   ],
   "source": [
    "# Grafica de mensajes al mes\n",
    "plot_bar('invoice','Mean of income by month')"
   ]
  },
  {
   "cell_type": "code",
   "execution_count": 58,
   "metadata": {
    "colab": {
     "base_uri": "https://localhost:8080/",
     "height": 602
    },
    "id": "OK9UjL8wkupH",
    "outputId": "6f4d01de-8afa-43d2-dd7c-d0069737a271"
   },
   "outputs": [
    {
     "data": {
      "image/png": "[encoded data removed]",
      "text/plain": [
       "<Figure size 720x432 with 2 Axes>"
      ]
     },
     "metadata": {
      "needs_background": "light"
     },
     "output_type": "display_data"
    }
   ],
   "source": [
    "#Mensajes al mes por tipo de plan\n",
    "plot_hist('invoice','Invoice',\n",
    "          'Invoice by \"Surf\" plan histogram',\n",
    "          'Invoice by \"Ultimate\" plan histogram',\n",
    "          'Invoice distribution by Surf and Ultimate plans Histograms')"
   ]
  },
  {
   "cell_type": "markdown",
   "metadata": {
    "id": "jb09RyC-vGR8"
   },
   "source": [
    "En esta gráfica observamos cosas interesantes\n",
    "\n",
    "- Histograma del plan **\"Surf\"**: Aqui observamos que el pico está en los cuando se tiene un gasto alrededor de $\\$$20 y tambien vemos como nuestras frecuencia van disminuyendo aumenta la factura. Tambien tenemos algunas facturas mayores a $\\$$500\n",
    "\n",
    "- Histograma del plan **\"Ultimate\"**: Observamos que la mayoria de los datos están centrados en un gasto alrededor de $\\$$70 el valor del plan y de ahí podemos observar algunos valores con facturación mayor a $\\$$150"
   ]
  },
  {
   "cell_type": "code",
   "execution_count": 59,
   "metadata": {
    "colab": {
     "base_uri": "https://localhost:8080/"
    },
    "id": "7nxSU5DkkupH",
    "outputId": "8bb1af1d-cc79-435d-95c1-ab285e114d19"
   },
   "outputs": [
    {
     "name": "stdout",
     "output_type": "stream",
     "text": [
      "Plan Ultimate Media: 72.26, Varianza: 127.65, Desviación: 11.30\n",
      "~~~~~~~~~~~~~~~~~~~~~~~~~~~~~~~~~~~~~~~~~~~~~~~~~~~~~~~~~~~~~~~\n",
      "Plan Surf Media: 46.82, Varianza: 2178.436, Desviación: 46.67\n"
     ]
    }
   ],
   "source": [
    "#Obtenemos nuestras medias y varianzas\n",
    "invoice_values = mean_median('invoice')\n",
    "\n",
    "#Imprimimos nuestros valores\n",
    "print(f'Plan Ultimate Media:{invoice_values[0]: .2F}, Varianza:{invoice_values[1]: .2f}, Desviación:{np.sqrt(invoice_values[1]): .2f}')\n",
    "print('~~~~~~~~~~~~~~~~~~~~~~~~~~~~~~~~~~~~~~~~~~~~~~~~~~~~~~~~~~~~~~~')\n",
    "print(f'Plan Surf Media:{invoice_values[2]: .2f}, Varianza:{invoice_values[3]: .3f}, Desviación:{np.sqrt(invoice_values[3]): .2f}')"
   ]
  },
  {
   "cell_type": "code",
   "execution_count": 60,
   "metadata": {
    "colab": {
     "base_uri": "https://localhost:8080/",
     "height": 495
    },
    "id": "M4en1u1DkupH",
    "outputId": "f6f062c9-be39-487e-9183-a16ff8a249ee"
   },
   "outputs": [
    {
     "data": {
      "image/png": "[encoded data removed]",
      "text/plain": [
       "<Figure size 504x360 with 1 Axes>"
      ]
     },
     "metadata": {
      "needs_background": "light"
     },
     "output_type": "display_data"
    }
   ],
   "source": [
    "# Diagrama de caja mensajes\n",
    "plot_boxplot('invoice','Invoice boxplot','Invoice_duration')"
   ]
  },
  {
   "cell_type": "markdown",
   "metadata": {
    "id": "_o829gNZY4-_"
   },
   "source": [
    "**Conclusión intermedia**\n",
    "\n",
    "En nuestra gráfica de barras observamos que el mes en donde se realizan más gastos es en el mes de Diciembre, al igual que en nuestros anteriores apartados  se puede deber a las fiestas de navidad y año nuevo. Tambíen se nota que en general aumenta el uso de datos conforme pasan los meses.\n",
    "\n",
    "En nuestros histogramas observamos una gran diferencia de como se visualizan las gráficas, observamos como en el plan surf hay varios usuarios que exceden sus pan respecto al los usuarios de ultimate\n",
    "\n",
    "En los calculos de las medias, varianzas y desviación vimos que son muy distintas aquí entre los planes, igual vemos que los usuarios del plan surf en pormedio gastan el doble. \n",
    "\n",
    "En el boxplot tambien observamos nuestra caja del plan ultimate nuestros rangos q3, q1 casi ni se notan por que tenemos muchos valores de facturación que son igual al monto del plan, mientras en nuestro plan surf tenemos varios valores entre nuestros rangos q2-q3 más valores atípicos "
   ]
  },
  {
   "cell_type": "markdown",
   "metadata": {
    "id": "vXrHuUWn4znK"
   },
   "source": [
    "## Conclusión <a id= 'conclution_1'></a>"
   ]
  },
  {
   "cell_type": "markdown",
   "metadata": {
    "id": "ShUWpRtz5adM"
   },
   "source": [
    "Con estas gráficas pudimos observar el comportamiento de consumo y facturación de los usuarios dependiendo de nuestros dos planes.\n",
    "Pudimos observar que los usuarios del plan **Surf** tienden a excederce más en sus consumos en general (minutos de llamadas, mensajes enviados y datos utilizados), mientras que nuestros usuarios del plan **Ultimate** solo tienden a excederce en algunas ocasiones el consumo de datos.\n",
    "Tambien observamos que en el promedio de facturación los usuarios del plan de surf es un poco más del doble que el costo del plan, mientras que en los usuarios del otro plan el promedio de gasto excedente es menor a los $5"
   ]
  },
  {
   "cell_type": "markdown",
   "metadata": {
    "id": "M8RkzjfrY4_A"
   },
   "source": [
    "## Comprobación de hipótesis<a id = 'hipo' ></a>"
   ]
  },
  {
   "cell_type": "markdown",
   "metadata": {
    "id": "0cR8s1QUY4_A"
   },
   "source": [
    "### Hípotesis 1<a id= \"hip_1\"></a>"
   ]
  },
  {
   "cell_type": "markdown",
   "metadata": {
    "id": "elIXg3WZAwSw"
   },
   "source": [
    "\n",
    "\"El ingreso promedio de los usuarios de las tarifas Ultimate y Surf difiere\"\n",
    "\n",
    "Para esta hipotesis nuestra hipótesis nula y alternativa serán las siguientes: \n",
    "\n",
    "$H_0$ = ingreso de usuarios de planes Ultimate es igúal al los del plan surf\n",
    "\n",
    "$H_1$ = ingreso de usuarios de planes Ultimate es distinto al los del plan surf\n",
    "\n",
    "Nuestro valor de significancia será:\n",
    "\n",
    "$\\alpha$ = 0.05\n",
    "\n",
    "Nuestras poblaciones seran:\n",
    "\n",
    "Poblacion 1: Facturación de las personas que pertenecen al plan Ultimate\n",
    "\n",
    "Poblacion 2: Facturación de las personas que pertenecen al plan surf\n",
    "\n",
    "Método a emplear: Hipótesis sobre la igualdad de las medias de dos poblaciones"
   ]
  },
  {
   "cell_type": "code",
   "execution_count": 61,
   "metadata": {
    "colab": {
     "base_uri": "https://localhost:8080/"
    },
    "id": "yVX6fGxaY4_A",
    "outputId": "db9e9c94-4591-4000-c7f7-71ad424340de"
   },
   "outputs": [
    {
     "name": "stdout",
     "output_type": "stream",
     "text": [
      "p-value: 7.962942195939478e-83\n",
      "Rechazamos la hipótesis nula\n"
     ]
    }
   ],
   "source": [
    "# Prueba las hipótesis\n",
    "ultimate_plans = resume_df[resume_df['plan'] == 'ultimate']['invoice'] #Población 1\n",
    "surf_plans = resume_df[resume_df['plan'] == 'surf']['invoice'] #Población 2\n",
    "alpha = 0.05# tu código: establece un nivel crítico de significación estadística\n",
    "\n",
    "#aplicación de método para la obtención del P-value\n",
    "results = st.ttest_ind(ultimate_plans, surf_plans,equal_var = False)\n",
    "print('p-value:',results.pvalue)\n",
    "\n",
    "if results.pvalue < alpha:\n",
    "    print(\"Rechazamos la hipótesis nula\")\n",
    "else:\n",
    "    print(\"No rechazamos la hipótesis nula\")\n"
   ]
  },
  {
   "cell_type": "markdown",
   "metadata": {
    "id": "JCJlpDNY9N8U"
   },
   "source": [
    "Como rechazamos nuestra hípotesis nula podemos decir que los ingresos de los usuarios por los planes Ultimate y Surf son distintos"
   ]
  },
  {
   "cell_type": "markdown",
   "metadata": {
    "id": "-x6r_6lwY4_A"
   },
   "source": [
    "### Hípotesis 2 <a id= \"hip_2\"></a>"
   ]
  },
  {
   "cell_type": "markdown",
   "metadata": {
    "id": "oEUUT616As-C"
   },
   "source": [
    "\"El ingreso promedio de los usuarios en el área de estados Nueva York-Nueva Jersey es diferente al de los usuarios de otras regiones\"\n",
    "\n",
    "$H_0$ = Ingreso de usuarios de las áreas de NY-NJ es igual al de las otras áreas\n",
    "\n",
    "$H_1$ = Ingreso de usuarios de las áreas de NY-NJ es distinto al de las otras áreas\n",
    "\n",
    "Nuestro valor de significancia será:\n",
    "\n",
    "$\\alpha$ = 0.05\n",
    "\n",
    "Nuestras poblaciones seran:\n",
    "\n",
    "Poblacion 1: Personas que pertencen al área de Nueva york y/o Nueva Jersey\n",
    "\n",
    "Poblacion 2: Personas que no pertencen al área de Nueva york y/o Nueva Jersey\n",
    "\n",
    "Método a emplear: Hipótesis sobre la igualdad de las medias de dos poblaciones\n",
    "\n",
    "Para realizar esto vamos a actualizar nuestra tabla creada `resume_df` uniendo las ciudades de cada usuario, para despues seccionar nuestra poblacion"
   ]
  },
  {
   "cell_type": "code",
   "execution_count": 62,
   "metadata": {
    "colab": {
     "base_uri": "https://localhost:8080/",
     "height": 563
    },
    "id": "zSPfqJZ_DdTu",
    "outputId": "ca0c9214-583f-4d69-e6c9-f20f00083ef8"
   },
   "outputs": [
    {
     "data": {
      "text/html": [
       "<div>\n",
       "<style scoped>\n",
       "    .dataframe tbody tr th:only-of-type {\n",
       "        vertical-align: middle;\n",
       "    }\n",
       "\n",
       "    .dataframe tbody tr th {\n",
       "        vertical-align: top;\n",
       "    }\n",
       "\n",
       "    .dataframe thead th {\n",
       "        text-align: right;\n",
       "    }\n",
       "</style>\n",
       "<table border=\"1\" class=\"dataframe\">\n",
       "  <thead>\n",
       "    <tr style=\"text-align: right;\">\n",
       "      <th></th>\n",
       "      <th>user_id</th>\n",
       "      <th>month</th>\n",
       "      <th>calls_by_month</th>\n",
       "      <th>calls_duration</th>\n",
       "      <th>messages_by_month</th>\n",
       "      <th>mb_used</th>\n",
       "      <th>GB_used</th>\n",
       "      <th>plan</th>\n",
       "      <th>invoice</th>\n",
       "      <th>city</th>\n",
       "    </tr>\n",
       "  </thead>\n",
       "  <tbody>\n",
       "    <tr>\n",
       "      <th>0</th>\n",
       "      <td>1000</td>\n",
       "      <td>12.0</td>\n",
       "      <td>16.0</td>\n",
       "      <td>124.0</td>\n",
       "      <td>11.0</td>\n",
       "      <td>1901.47</td>\n",
       "      <td>2.0</td>\n",
       "      <td>ultimate</td>\n",
       "      <td>70.0</td>\n",
       "      <td>Atlanta-Sandy Springs-Roswell, GA MSA</td>\n",
       "    </tr>\n",
       "    <tr>\n",
       "      <th>1</th>\n",
       "      <td>1001</td>\n",
       "      <td>8.0</td>\n",
       "      <td>27.0</td>\n",
       "      <td>182.0</td>\n",
       "      <td>30.0</td>\n",
       "      <td>6919.15</td>\n",
       "      <td>7.0</td>\n",
       "      <td>surf</td>\n",
       "      <td>20.0</td>\n",
       "      <td>Seattle-Tacoma-Bellevue, WA MSA</td>\n",
       "    </tr>\n",
       "    <tr>\n",
       "      <th>2</th>\n",
       "      <td>1001</td>\n",
       "      <td>9.0</td>\n",
       "      <td>49.0</td>\n",
       "      <td>315.0</td>\n",
       "      <td>44.0</td>\n",
       "      <td>13314.82</td>\n",
       "      <td>14.0</td>\n",
       "      <td>surf</td>\n",
       "      <td>20.0</td>\n",
       "      <td>Seattle-Tacoma-Bellevue, WA MSA</td>\n",
       "    </tr>\n",
       "    <tr>\n",
       "      <th>3</th>\n",
       "      <td>1001</td>\n",
       "      <td>10.0</td>\n",
       "      <td>65.0</td>\n",
       "      <td>393.0</td>\n",
       "      <td>53.0</td>\n",
       "      <td>22330.49</td>\n",
       "      <td>22.0</td>\n",
       "      <td>surf</td>\n",
       "      <td>70.0</td>\n",
       "      <td>Seattle-Tacoma-Bellevue, WA MSA</td>\n",
       "    </tr>\n",
       "    <tr>\n",
       "      <th>4</th>\n",
       "      <td>1001</td>\n",
       "      <td>11.0</td>\n",
       "      <td>64.0</td>\n",
       "      <td>426.0</td>\n",
       "      <td>36.0</td>\n",
       "      <td>18504.30</td>\n",
       "      <td>19.0</td>\n",
       "      <td>surf</td>\n",
       "      <td>40.0</td>\n",
       "      <td>Seattle-Tacoma-Bellevue, WA MSA</td>\n",
       "    </tr>\n",
       "    <tr>\n",
       "      <th>5</th>\n",
       "      <td>1001</td>\n",
       "      <td>12.0</td>\n",
       "      <td>56.0</td>\n",
       "      <td>412.0</td>\n",
       "      <td>44.0</td>\n",
       "      <td>19369.18</td>\n",
       "      <td>19.0</td>\n",
       "      <td>surf</td>\n",
       "      <td>40.0</td>\n",
       "      <td>Seattle-Tacoma-Bellevue, WA MSA</td>\n",
       "    </tr>\n",
       "    <tr>\n",
       "      <th>6</th>\n",
       "      <td>1002</td>\n",
       "      <td>10.0</td>\n",
       "      <td>11.0</td>\n",
       "      <td>59.0</td>\n",
       "      <td>15.0</td>\n",
       "      <td>6552.01</td>\n",
       "      <td>7.0</td>\n",
       "      <td>surf</td>\n",
       "      <td>20.0</td>\n",
       "      <td>Las Vegas-Henderson-Paradise, NV MSA</td>\n",
       "    </tr>\n",
       "    <tr>\n",
       "      <th>7</th>\n",
       "      <td>1002</td>\n",
       "      <td>11.0</td>\n",
       "      <td>55.0</td>\n",
       "      <td>386.0</td>\n",
       "      <td>32.0</td>\n",
       "      <td>19345.08</td>\n",
       "      <td>19.0</td>\n",
       "      <td>surf</td>\n",
       "      <td>40.0</td>\n",
       "      <td>Las Vegas-Henderson-Paradise, NV MSA</td>\n",
       "    </tr>\n",
       "    <tr>\n",
       "      <th>8</th>\n",
       "      <td>1002</td>\n",
       "      <td>12.0</td>\n",
       "      <td>47.0</td>\n",
       "      <td>384.0</td>\n",
       "      <td>41.0</td>\n",
       "      <td>14396.24</td>\n",
       "      <td>15.0</td>\n",
       "      <td>surf</td>\n",
       "      <td>20.0</td>\n",
       "      <td>Las Vegas-Henderson-Paradise, NV MSA</td>\n",
       "    </tr>\n",
       "    <tr>\n",
       "      <th>9</th>\n",
       "      <td>1003</td>\n",
       "      <td>12.0</td>\n",
       "      <td>149.0</td>\n",
       "      <td>1104.0</td>\n",
       "      <td>50.0</td>\n",
       "      <td>27044.14</td>\n",
       "      <td>27.0</td>\n",
       "      <td>surf</td>\n",
       "      <td>120.0</td>\n",
       "      <td>Tulsa, OK MSA</td>\n",
       "    </tr>\n",
       "  </tbody>\n",
       "</table>\n",
       "</div>"
      ],
      "text/plain": [
       "   user_id  month  calls_by_month  calls_duration  messages_by_month  \\\n",
       "0     1000   12.0            16.0           124.0               11.0   \n",
       "1     1001    8.0            27.0           182.0               30.0   \n",
       "2     1001    9.0            49.0           315.0               44.0   \n",
       "3     1001   10.0            65.0           393.0               53.0   \n",
       "4     1001   11.0            64.0           426.0               36.0   \n",
       "5     1001   12.0            56.0           412.0               44.0   \n",
       "6     1002   10.0            11.0            59.0               15.0   \n",
       "7     1002   11.0            55.0           386.0               32.0   \n",
       "8     1002   12.0            47.0           384.0               41.0   \n",
       "9     1003   12.0           149.0          1104.0               50.0   \n",
       "\n",
       "    mb_used  GB_used      plan  invoice                                   city  \n",
       "0   1901.47      2.0  ultimate     70.0  Atlanta-Sandy Springs-Roswell, GA MSA  \n",
       "1   6919.15      7.0      surf     20.0        Seattle-Tacoma-Bellevue, WA MSA  \n",
       "2  13314.82     14.0      surf     20.0        Seattle-Tacoma-Bellevue, WA MSA  \n",
       "3  22330.49     22.0      surf     70.0        Seattle-Tacoma-Bellevue, WA MSA  \n",
       "4  18504.30     19.0      surf     40.0        Seattle-Tacoma-Bellevue, WA MSA  \n",
       "5  19369.18     19.0      surf     40.0        Seattle-Tacoma-Bellevue, WA MSA  \n",
       "6   6552.01      7.0      surf     20.0   Las Vegas-Henderson-Paradise, NV MSA  \n",
       "7  19345.08     19.0      surf     40.0   Las Vegas-Henderson-Paradise, NV MSA  \n",
       "8  14396.24     15.0      surf     20.0   Las Vegas-Henderson-Paradise, NV MSA  \n",
       "9  27044.14     27.0      surf    120.0                          Tulsa, OK MSA  "
      ]
     },
     "execution_count": 62,
     "metadata": {},
     "output_type": "execute_result"
    }
   ],
   "source": [
    "#Añadiendo las ciudades a nuestra tabla\n",
    "resume_df = resume_df.merge(users_data[['user_id','city']], how = 'left')\n",
    "\n",
    "#Mostramos nuestro nueva tabla\n",
    "resume_df.head(10)"
   ]
  },
  {
   "cell_type": "code",
   "execution_count": 63,
   "metadata": {
    "colab": {
     "base_uri": "https://localhost:8080/",
     "height": 337
    },
    "id": "5P36SEqsY4_B",
    "outputId": "1a21ac86-8b6a-443b-d05c-44bcc51e8660"
   },
   "outputs": [
    {
     "data": {
      "text/html": [
       "<div>\n",
       "<style scoped>\n",
       "    .dataframe tbody tr th:only-of-type {\n",
       "        vertical-align: middle;\n",
       "    }\n",
       "\n",
       "    .dataframe tbody tr th {\n",
       "        vertical-align: top;\n",
       "    }\n",
       "\n",
       "    .dataframe thead th {\n",
       "        text-align: right;\n",
       "    }\n",
       "</style>\n",
       "<table border=\"1\" class=\"dataframe\">\n",
       "  <thead>\n",
       "    <tr style=\"text-align: right;\">\n",
       "      <th></th>\n",
       "      <th>user_id</th>\n",
       "      <th>month</th>\n",
       "      <th>calls_by_month</th>\n",
       "      <th>calls_duration</th>\n",
       "      <th>messages_by_month</th>\n",
       "      <th>mb_used</th>\n",
       "      <th>GB_used</th>\n",
       "      <th>plan</th>\n",
       "      <th>invoice</th>\n",
       "      <th>city</th>\n",
       "    </tr>\n",
       "  </thead>\n",
       "  <tbody>\n",
       "    <tr>\n",
       "      <th>56</th>\n",
       "      <td>1014</td>\n",
       "      <td>11.0</td>\n",
       "      <td>28.0</td>\n",
       "      <td>163.0</td>\n",
       "      <td>9.0</td>\n",
       "      <td>1175.59</td>\n",
       "      <td>2.0</td>\n",
       "      <td>surf</td>\n",
       "      <td>20.00</td>\n",
       "      <td>New York-Newark-Jersey City, NY-NJ-PA MSA</td>\n",
       "    </tr>\n",
       "    <tr>\n",
       "      <th>57</th>\n",
       "      <td>1014</td>\n",
       "      <td>12.0</td>\n",
       "      <td>150.0</td>\n",
       "      <td>1114.0</td>\n",
       "      <td>64.0</td>\n",
       "      <td>7792.41</td>\n",
       "      <td>8.0</td>\n",
       "      <td>surf</td>\n",
       "      <td>38.84</td>\n",
       "      <td>New York-Newark-Jersey City, NY-NJ-PA MSA</td>\n",
       "    </tr>\n",
       "    <tr>\n",
       "      <th>75</th>\n",
       "      <td>1022</td>\n",
       "      <td>5.0</td>\n",
       "      <td>39.0</td>\n",
       "      <td>302.0</td>\n",
       "      <td>NaN</td>\n",
       "      <td>4908.08</td>\n",
       "      <td>5.0</td>\n",
       "      <td>surf</td>\n",
       "      <td>20.00</td>\n",
       "      <td>New York-Newark-Jersey City, NY-NJ-PA MSA</td>\n",
       "    </tr>\n",
       "    <tr>\n",
       "      <th>76</th>\n",
       "      <td>1022</td>\n",
       "      <td>6.0</td>\n",
       "      <td>76.0</td>\n",
       "      <td>490.0</td>\n",
       "      <td>NaN</td>\n",
       "      <td>23436.48</td>\n",
       "      <td>23.0</td>\n",
       "      <td>surf</td>\n",
       "      <td>80.00</td>\n",
       "      <td>New York-Newark-Jersey City, NY-NJ-PA MSA</td>\n",
       "    </tr>\n",
       "    <tr>\n",
       "      <th>77</th>\n",
       "      <td>1022</td>\n",
       "      <td>7.0</td>\n",
       "      <td>70.0</td>\n",
       "      <td>475.0</td>\n",
       "      <td>NaN</td>\n",
       "      <td>9933.15</td>\n",
       "      <td>10.0</td>\n",
       "      <td>surf</td>\n",
       "      <td>20.00</td>\n",
       "      <td>New York-Newark-Jersey City, NY-NJ-PA MSA</td>\n",
       "    </tr>\n",
       "  </tbody>\n",
       "</table>\n",
       "</div>"
      ],
      "text/plain": [
       "    user_id  month  calls_by_month  calls_duration  messages_by_month  \\\n",
       "56     1014   11.0            28.0           163.0                9.0   \n",
       "57     1014   12.0           150.0          1114.0               64.0   \n",
       "75     1022    5.0            39.0           302.0                NaN   \n",
       "76     1022    6.0            76.0           490.0                NaN   \n",
       "77     1022    7.0            70.0           475.0                NaN   \n",
       "\n",
       "     mb_used  GB_used  plan  invoice  \\\n",
       "56   1175.59      2.0  surf    20.00   \n",
       "57   7792.41      8.0  surf    38.84   \n",
       "75   4908.08      5.0  surf    20.00   \n",
       "76  23436.48     23.0  surf    80.00   \n",
       "77   9933.15     10.0  surf    20.00   \n",
       "\n",
       "                                         city  \n",
       "56  New York-Newark-Jersey City, NY-NJ-PA MSA  \n",
       "57  New York-Newark-Jersey City, NY-NJ-PA MSA  \n",
       "75  New York-Newark-Jersey City, NY-NJ-PA MSA  \n",
       "76  New York-Newark-Jersey City, NY-NJ-PA MSA  \n",
       "77  New York-Newark-Jersey City, NY-NJ-PA MSA  "
      ]
     },
     "execution_count": 63,
     "metadata": {},
     "output_type": "execute_result"
    }
   ],
   "source": [
    "# Adquisición de las áreas de NY-NJ ó NY ó NJ\n",
    "ny_nj_area = resume_df[resume_df.city.str.contains('NY|NJ', case = True)]\n",
    "\n",
    "#Verificamos datos\n",
    "ny_nj_area.head()"
   ]
  },
  {
   "cell_type": "code",
   "execution_count": 64,
   "metadata": {
    "colab": {
     "base_uri": "https://localhost:8080/",
     "height": 337
    },
    "id": "BeR0wAgN-jjc",
    "outputId": "ce34b483-8a15-406c-959e-a83e2ff03773"
   },
   "outputs": [
    {
     "data": {
      "text/html": [
       "<div>\n",
       "<style scoped>\n",
       "    .dataframe tbody tr th:only-of-type {\n",
       "        vertical-align: middle;\n",
       "    }\n",
       "\n",
       "    .dataframe tbody tr th {\n",
       "        vertical-align: top;\n",
       "    }\n",
       "\n",
       "    .dataframe thead th {\n",
       "        text-align: right;\n",
       "    }\n",
       "</style>\n",
       "<table border=\"1\" class=\"dataframe\">\n",
       "  <thead>\n",
       "    <tr style=\"text-align: right;\">\n",
       "      <th></th>\n",
       "      <th>user_id</th>\n",
       "      <th>month</th>\n",
       "      <th>calls_by_month</th>\n",
       "      <th>calls_duration</th>\n",
       "      <th>messages_by_month</th>\n",
       "      <th>mb_used</th>\n",
       "      <th>GB_used</th>\n",
       "      <th>plan</th>\n",
       "      <th>invoice</th>\n",
       "      <th>city</th>\n",
       "    </tr>\n",
       "  </thead>\n",
       "  <tbody>\n",
       "    <tr>\n",
       "      <th>0</th>\n",
       "      <td>1000</td>\n",
       "      <td>12.0</td>\n",
       "      <td>16.0</td>\n",
       "      <td>124.0</td>\n",
       "      <td>11.0</td>\n",
       "      <td>1901.47</td>\n",
       "      <td>2.0</td>\n",
       "      <td>ultimate</td>\n",
       "      <td>70.0</td>\n",
       "      <td>Atlanta-Sandy Springs-Roswell, GA MSA</td>\n",
       "    </tr>\n",
       "    <tr>\n",
       "      <th>1</th>\n",
       "      <td>1001</td>\n",
       "      <td>8.0</td>\n",
       "      <td>27.0</td>\n",
       "      <td>182.0</td>\n",
       "      <td>30.0</td>\n",
       "      <td>6919.15</td>\n",
       "      <td>7.0</td>\n",
       "      <td>surf</td>\n",
       "      <td>20.0</td>\n",
       "      <td>Seattle-Tacoma-Bellevue, WA MSA</td>\n",
       "    </tr>\n",
       "    <tr>\n",
       "      <th>2</th>\n",
       "      <td>1001</td>\n",
       "      <td>9.0</td>\n",
       "      <td>49.0</td>\n",
       "      <td>315.0</td>\n",
       "      <td>44.0</td>\n",
       "      <td>13314.82</td>\n",
       "      <td>14.0</td>\n",
       "      <td>surf</td>\n",
       "      <td>20.0</td>\n",
       "      <td>Seattle-Tacoma-Bellevue, WA MSA</td>\n",
       "    </tr>\n",
       "    <tr>\n",
       "      <th>3</th>\n",
       "      <td>1001</td>\n",
       "      <td>10.0</td>\n",
       "      <td>65.0</td>\n",
       "      <td>393.0</td>\n",
       "      <td>53.0</td>\n",
       "      <td>22330.49</td>\n",
       "      <td>22.0</td>\n",
       "      <td>surf</td>\n",
       "      <td>70.0</td>\n",
       "      <td>Seattle-Tacoma-Bellevue, WA MSA</td>\n",
       "    </tr>\n",
       "    <tr>\n",
       "      <th>4</th>\n",
       "      <td>1001</td>\n",
       "      <td>11.0</td>\n",
       "      <td>64.0</td>\n",
       "      <td>426.0</td>\n",
       "      <td>36.0</td>\n",
       "      <td>18504.30</td>\n",
       "      <td>19.0</td>\n",
       "      <td>surf</td>\n",
       "      <td>40.0</td>\n",
       "      <td>Seattle-Tacoma-Bellevue, WA MSA</td>\n",
       "    </tr>\n",
       "  </tbody>\n",
       "</table>\n",
       "</div>"
      ],
      "text/plain": [
       "   user_id  month  calls_by_month  calls_duration  messages_by_month  \\\n",
       "0     1000   12.0            16.0           124.0               11.0   \n",
       "1     1001    8.0            27.0           182.0               30.0   \n",
       "2     1001    9.0            49.0           315.0               44.0   \n",
       "3     1001   10.0            65.0           393.0               53.0   \n",
       "4     1001   11.0            64.0           426.0               36.0   \n",
       "\n",
       "    mb_used  GB_used      plan  invoice                                   city  \n",
       "0   1901.47      2.0  ultimate     70.0  Atlanta-Sandy Springs-Roswell, GA MSA  \n",
       "1   6919.15      7.0      surf     20.0        Seattle-Tacoma-Bellevue, WA MSA  \n",
       "2  13314.82     14.0      surf     20.0        Seattle-Tacoma-Bellevue, WA MSA  \n",
       "3  22330.49     22.0      surf     70.0        Seattle-Tacoma-Bellevue, WA MSA  \n",
       "4  18504.30     19.0      surf     40.0        Seattle-Tacoma-Bellevue, WA MSA  "
      ]
     },
     "execution_count": 64,
     "metadata": {},
     "output_type": "execute_result"
    }
   ],
   "source": [
    "# Adquisición del resto de las áreas\n",
    "rest_of_area = resume_df[~(resume_df.city.str.contains('NY|NJ', case = True))]\n",
    "\n",
    "#Verificamos datos\n",
    "rest_of_area.head()"
   ]
  },
  {
   "cell_type": "markdown",
   "metadata": {
    "id": "c0DgGKi6MXP6"
   },
   "source": [
    "Vamos a calular nuestras varianzas para determinar si las varianzas de nuestras poblaciones son iguales o no para saber como utilizaremos nuestro parámetro equal_var"
   ]
  },
  {
   "cell_type": "code",
   "execution_count": 65,
   "metadata": {
    "colab": {
     "base_uri": "https://localhost:8080/"
    },
    "id": "ppmfNTj-Mm0I",
    "outputId": "296d1a95-abcd-45a4-ad3b-9edfd286abf3"
   },
   "outputs": [
    {
     "name": "stdout",
     "output_type": "stream",
     "text": [
      "Varianza poblacion 1:  1671.18\n",
      "Varianza población 2:  1665.12\n"
     ]
    }
   ],
   "source": [
    "#Calculo de varianza de las poblaciones\n",
    "poblacion_1 = np.var(ny_nj_area['invoice'])\n",
    "poblacion_2 = np.var(rest_of_area['invoice'])\n",
    "print(f'Varianza poblacion 1: {poblacion_1: .2F}\\nVarianza población 2: {poblacion_2: .2F}')"
   ]
  },
  {
   "cell_type": "code",
   "execution_count": 67,
   "metadata": {
    "colab": {
     "base_uri": "https://localhost:8080/"
    },
    "id": "HrZIr5mWIBWT",
    "outputId": "70d9c7fb-1147-4e69-834d-49478c2b7138"
   },
   "outputs": [
    {
     "name": "stdout",
     "output_type": "stream",
     "text": [
      "p-value: 0.015777110455668167\n",
      "Rechazamos la hipótesis nula\n"
     ]
    }
   ],
   "source": [
    "# Prueba de hipotesis\n",
    "\n",
    "alpha = 0.05 #nivel crítico de significación estadística\n",
    "\n",
    "results = st.ttest_ind(ny_nj_area['invoice'], rest_of_area['invoice'],equal_var = False)\n",
    "print('p-value:',results.pvalue)\n",
    "\n",
    "if results.pvalue < alpha:\n",
    "    print(\"Rechazamos la hipótesis nula\")\n",
    "else:\n",
    "    print(\"No rechazamos la hipótesis nula\")\n"
   ]
  },
  {
   "cell_type": "markdown",
   "metadata": {
    "id": "iLbnM8AfANKU"
   },
   "source": [
    "Al rechazar nuestra hipótesis podemos decir que los ingresos entre las áreas de NY-NJ y las otras áreas son diferentes"
   ]
  },
  {
   "cell_type": "markdown",
   "metadata": {
    "id": "oJUhZcysY4_B"
   },
   "source": [
    "## Conclusión general <a id='final_conclution'>"
   ]
  },
  {
   "cell_type": "markdown",
   "metadata": {
    "id": "ik-hJcMNY4_B"
   },
   "source": [
    "Estre trabajo lo dividimos en 5 partes:\n",
    "\n",
    "1. **Descripción de datos**\n",
    "\n",
    "En ella cargamos nuestras 5 tablas cada tabla aportaba distinta información ya sea los minutos hablados por mes, datos de internet utilizados o mensajes enviados, ademas teníamos una que nos daba la información de los planes(candidades, costos, costos por excedentes) y en otra la información del usuario (nombre,id, área a la que pertenecía entre otros).\n",
    "\n",
    "Una vez almacenados nuestros datos en variables hicimos el preprocesamiento de estas en donde no se encontraron valores nulos ni duplicados en la mayoria a excepción de nuestra tabla de usuarios, pero estos valroes nulos representaba que este aun continuaba con el plan. Se corrigieron datos en su mayoría se cambio el tipo de object a datetime para obtener las fechas y poder adquirir extraer los meses posteriormente.\n",
    "\n",
    "2. **Estuio de las condiciones del plan**\n",
    "\n",
    "Aquí se presento las condicones de cobro de la empresa y se formuló una función para el calculo de facturación de los usuarios de acuerdo al plan.\n",
    "\n",
    "3. **Agregar datos por usuario**\n",
    "\n",
    "En este apartado obtuvimos una nueva tabla fucionando otras agrupadas por usuario, mes y una columna(número de mensajes, cantidad de llamadas, duración de llamadas, uso de datos en mb y GB, así como la facturación por mes de los usuarios)\n",
    "\n",
    "4. **Esudio de comportamiento del usuario**\n",
    "\n",
    "Dibujamos gráficas de barras, histográmas, diagámas de caja y cañculamos la media, varianza y desviación estandar con el fin de ver el comportamiento de gastos de los usuarios dependiendo del plan y con algún factor(llamadas,mensajes,datos usados,ingreso).\n",
    "\n",
    "Pudimos observar que los usuarios del plan Surf tienden a excederce más en sus consumos en general (minutos de llamadas, mensajes enviados y datos utilizados),mientras que nuestros usuarios del plan Ultimate solo tienden a excederce en algunas ocasiones el consumo de datos\n",
    "\n",
    "5. **Hipotesis**\n",
    "\n",
    "Se plantearon dos hipótesis:\n",
    "    * El ingreso promedio de los usuarios de las tarifas Ultimate y Surf difiere.\n",
    "    * El ingreso promedio de los usuarios en el área de estados Nueva York-Nueva Jersey es diferente al de los usuarios de otras regiones. Para este apartado actualizamos nuestra tabla agregando el área de donde pertenecen el usuario.\n",
    "\n",
    "Planteamos nuestras hipótesis nulas y alternativas con un nivel de significancia de 0.05 y utilizamos el método de hipótesis sobre la igualdad de las medias de dos poblaciones.\n",
    "\n",
    "\n",
    "**Resultados**\n",
    "\n",
    "- Determinar que tárifa deja más ingresos\n",
    "\n",
    "De acuerdo a las gráficas realizadas en nuestro apartado de estudio de comportamiento concluimos que las personas con el plan \"Surf\" tienden a excederser más de las condiciones establecidas además en el cálculo promedio pudimos ver que estás gastan el doble mientras que el plan  \"Ultimate\" en promedio genera en excedente menos de \\$5 usd.\n",
    "\n",
    "\n",
    "- Comprobar la hipótesis de si el ingreso por las tarifas surf y ultimate difiere\n",
    "\n",
    "Rechazamos nuestra hípotesis nula planteada por lo que podemos decir que los ingresos de los usuarios por los planes Ultimate y Surf son distintos\n",
    "\n",
    "\n",
    "- Comprobar la hipótesis de si el ingreso promedio de los usuarios de Nueva Yory y Nueva Jersey es diferente a la de otras regiones\n",
    "\n",
    "Rechazamos nuestra hípotesis nula por lo que podremos decir que los ingresos entre las áreas de NY-NJ y las otras son diferentes\n",
    "\n"
   ]
  },
  {
   "cell_type": "code",
   "execution_count": null,
   "metadata": {},
   "outputs": [],
   "source": []
  }
 ],
 "metadata": {
  "ExecuteTimeLog": [
   {
    "duration": 828,
    "start_time": "2021-11-16T09:21:11.304Z"
   },
   {
    "duration": 893,
    "start_time": "2021-11-16T09:21:17.728Z"
   },
   {
    "duration": 1150,
    "start_time": "2021-11-16T09:21:29.568Z"
   },
   {
    "duration": 3,
    "start_time": "2021-11-16T09:24:14.495Z"
   },
   {
    "duration": 120,
    "start_time": "2021-11-16T09:24:46.630Z"
   },
   {
    "duration": 3,
    "start_time": "2021-11-16T09:28:27.882Z"
   },
   {
    "duration": 4,
    "start_time": "2021-11-16T09:29:54.281Z"
   },
   {
    "duration": 3,
    "start_time": "2021-11-16T09:30:45.936Z"
   },
   {
    "duration": 4,
    "start_time": "2021-11-16T09:31:06.300Z"
   },
   {
    "duration": 113,
    "start_time": "2021-11-16T09:31:37.208Z"
   },
   {
    "duration": 143,
    "start_time": "2021-11-16T09:31:48.656Z"
   },
   {
    "duration": 98,
    "start_time": "2021-11-16T09:31:55.678Z"
   },
   {
    "duration": 3,
    "start_time": "2021-11-16T09:32:08.535Z"
   },
   {
    "duration": 111,
    "start_time": "2021-11-16T09:32:10.120Z"
   },
   {
    "duration": 3,
    "start_time": "2021-11-16T09:32:15.732Z"
   },
   {
    "duration": 4,
    "start_time": "2021-11-16T09:32:29.423Z"
   },
   {
    "duration": 3,
    "start_time": "2021-11-16T10:03:03.074Z"
   },
   {
    "duration": 3,
    "start_time": "2021-11-16T10:10:01.288Z"
   },
   {
    "duration": 3,
    "start_time": "2021-11-16T10:10:46.923Z"
   },
   {
    "duration": 121,
    "start_time": "2021-11-16T10:37:46.494Z"
   },
   {
    "duration": 125,
    "start_time": "2021-11-16T10:38:20.632Z"
   },
   {
    "duration": 112,
    "start_time": "2021-11-16T10:46:53.001Z"
   },
   {
    "duration": 110,
    "start_time": "2021-11-16T10:48:25.775Z"
   },
   {
    "duration": 3,
    "start_time": "2021-11-16T10:50:18.720Z"
   },
   {
    "duration": 4,
    "start_time": "2021-11-16T10:50:37.649Z"
   },
   {
    "duration": 2,
    "start_time": "2021-11-16T10:50:51.884Z"
   },
   {
    "duration": 3,
    "start_time": "2021-11-16T10:51:56.237Z"
   },
   {
    "duration": 101,
    "start_time": "2021-11-16T10:53:13.791Z"
   },
   {
    "duration": 3,
    "start_time": "2021-11-16T10:55:59.186Z"
   },
   {
    "duration": 3,
    "start_time": "2021-11-16T10:56:10.751Z"
   },
   {
    "duration": 3,
    "start_time": "2021-11-16T10:56:49.038Z"
   },
   {
    "duration": 3,
    "start_time": "2021-11-16T10:56:49.174Z"
   },
   {
    "duration": 4,
    "start_time": "2021-11-16T10:56:49.414Z"
   },
   {
    "duration": 3,
    "start_time": "2021-11-16T10:56:49.680Z"
   },
   {
    "duration": 3,
    "start_time": "2021-11-16T10:56:50.370Z"
   },
   {
    "duration": 114,
    "start_time": "2021-11-16T10:59:34.518Z"
   },
   {
    "duration": 3,
    "start_time": "2021-11-16T11:01:41.201Z"
   },
   {
    "duration": 116,
    "start_time": "2021-11-16T11:01:48.754Z"
   },
   {
    "duration": 3,
    "start_time": "2021-11-16T11:02:16.685Z"
   },
   {
    "duration": 3,
    "start_time": "2021-11-16T11:02:19.479Z"
   },
   {
    "duration": 3,
    "start_time": "2021-11-16T11:02:47.067Z"
   },
   {
    "duration": 3,
    "start_time": "2021-11-16T11:02:49.353Z"
   },
   {
    "duration": 3,
    "start_time": "2021-11-16T11:03:07.835Z"
   },
   {
    "duration": 3,
    "start_time": "2021-11-16T11:03:07.953Z"
   },
   {
    "duration": 112,
    "start_time": "2021-11-16T11:07:52.072Z"
   },
   {
    "duration": 187,
    "start_time": "2021-11-16T11:09:23.468Z"
   },
   {
    "duration": 4,
    "start_time": "2021-11-16T11:10:01.455Z"
   },
   {
    "duration": 3,
    "start_time": "2021-11-16T11:10:05.069Z"
   },
   {
    "duration": 4,
    "start_time": "2021-11-16T11:10:13.376Z"
   },
   {
    "duration": 3,
    "start_time": "2021-11-16T11:10:14.434Z"
   },
   {
    "duration": 3,
    "start_time": "2021-11-16T11:10:22.853Z"
   },
   {
    "duration": 4,
    "start_time": "2021-11-16T11:27:29.279Z"
   },
   {
    "duration": 4,
    "start_time": "2021-11-16T11:29:08.919Z"
   },
   {
    "duration": 118,
    "start_time": "2021-11-16T11:29:46.703Z"
   },
   {
    "duration": 437,
    "start_time": "2021-11-16T11:36:02.181Z"
   },
   {
    "duration": 157,
    "start_time": "2021-11-16T11:36:14.388Z"
   },
   {
    "duration": 207,
    "start_time": "2021-11-16T11:47:15.898Z"
   },
   {
    "duration": 3,
    "start_time": "2021-11-16T11:53:52.092Z"
   },
   {
    "duration": 3,
    "start_time": "2021-11-16T11:53:52.236Z"
   },
   {
    "duration": 3,
    "start_time": "2021-11-16T11:59:12.005Z"
   },
   {
    "duration": 112,
    "start_time": "2021-11-16T12:00:33.446Z"
   },
   {
    "duration": 3,
    "start_time": "2021-11-16T12:02:14.453Z"
   },
   {
    "duration": 3,
    "start_time": "2021-11-16T12:02:39.512Z"
   },
   {
    "duration": 106,
    "start_time": "2021-11-16T12:03:03.460Z"
   },
   {
    "duration": 3,
    "start_time": "2021-11-17T20:37:21.139Z"
   },
   {
    "duration": 3,
    "start_time": "2021-11-17T20:37:22.229Z"
   },
   {
    "duration": 3,
    "start_time": "2021-11-17T20:38:38.806Z"
   },
   {
    "duration": 3,
    "start_time": "2021-11-17T20:38:41.958Z"
   },
   {
    "duration": 3,
    "start_time": "2021-11-17T20:43:46.551Z"
   },
   {
    "duration": 4,
    "start_time": "2021-11-17T20:58:21.835Z"
   },
   {
    "duration": 3,
    "start_time": "2021-11-17T20:59:21.872Z"
   },
   {
    "duration": 4,
    "start_time": "2021-11-17T20:59:45.352Z"
   },
   {
    "duration": 4,
    "start_time": "2021-11-17T20:59:49.646Z"
   },
   {
    "duration": 159,
    "start_time": "2021-11-17T21:02:26.949Z"
   },
   {
    "duration": 3,
    "start_time": "2021-11-17T21:03:53.461Z"
   },
   {
    "duration": 3,
    "start_time": "2021-11-17T21:03:53.694Z"
   },
   {
    "duration": 3,
    "start_time": "2021-11-17T21:05:28.145Z"
   },
   {
    "duration": 116,
    "start_time": "2021-11-17T21:05:57.787Z"
   },
   {
    "duration": 3,
    "start_time": "2021-11-17T21:06:37.993Z"
   },
   {
    "duration": 3,
    "start_time": "2021-11-17T21:06:38.261Z"
   },
   {
    "duration": 3,
    "start_time": "2021-11-17T21:11:54.358Z"
   },
   {
    "duration": 3,
    "start_time": "2021-11-17T21:12:43.846Z"
   },
   {
    "duration": 4,
    "start_time": "2021-11-17T21:13:08.773Z"
   },
   {
    "duration": 3,
    "start_time": "2021-11-17T21:14:44.441Z"
   },
   {
    "duration": 3,
    "start_time": "2021-11-17T21:15:42.059Z"
   },
   {
    "duration": 4,
    "start_time": "2021-11-17T21:15:51.995Z"
   },
   {
    "duration": 3,
    "start_time": "2021-11-17T21:15:53.923Z"
   },
   {
    "duration": 3,
    "start_time": "2021-11-17T21:15:55.282Z"
   },
   {
    "duration": 3,
    "start_time": "2021-11-17T21:16:28.492Z"
   },
   {
    "duration": 3,
    "start_time": "2021-11-17T21:16:32.603Z"
   },
   {
    "duration": 3,
    "start_time": "2021-11-17T21:17:06.941Z"
   },
   {
    "duration": 98,
    "start_time": "2021-11-17T21:18:05.733Z"
   },
   {
    "duration": 4,
    "start_time": "2021-11-17T21:21:35.255Z"
   },
   {
    "duration": 3,
    "start_time": "2021-11-17T21:21:37.804Z"
   },
   {
    "duration": 4,
    "start_time": "2021-11-17T21:23:06.071Z"
   },
   {
    "duration": 3,
    "start_time": "2021-11-17T21:23:24.799Z"
   },
   {
    "duration": 3,
    "start_time": "2021-11-17T21:23:32.591Z"
   },
   {
    "duration": 98,
    "start_time": "2021-11-17T21:28:31.559Z"
   },
   {
    "duration": 3,
    "start_time": "2021-11-17T21:28:45.448Z"
   },
   {
    "duration": 3,
    "start_time": "2021-11-17T21:29:17.303Z"
   },
   {
    "duration": 3,
    "start_time": "2021-11-17T21:29:29.617Z"
   },
   {
    "duration": 3,
    "start_time": "2021-11-17T21:29:32.681Z"
   },
   {
    "duration": 3,
    "start_time": "2021-11-17T21:36:11.474Z"
   },
   {
    "duration": 3,
    "start_time": "2021-11-17T21:36:14.791Z"
   },
   {
    "duration": 3,
    "start_time": "2021-11-17T21:36:53.943Z"
   },
   {
    "duration": 3,
    "start_time": "2021-11-17T21:36:56.165Z"
   },
   {
    "duration": 4,
    "start_time": "2021-11-17T21:37:16.590Z"
   },
   {
    "duration": 3,
    "start_time": "2021-11-17T21:37:22.702Z"
   },
   {
    "duration": 4,
    "start_time": "2021-11-17T21:38:03.479Z"
   },
   {
    "duration": 3,
    "start_time": "2021-11-17T21:38:08.601Z"
   },
   {
    "duration": 3,
    "start_time": "2021-11-17T21:38:12.928Z"
   },
   {
    "duration": 3,
    "start_time": "2021-11-17T21:38:48.896Z"
   },
   {
    "duration": 2,
    "start_time": "2021-11-17T21:38:49.171Z"
   },
   {
    "duration": 4,
    "start_time": "2021-11-17T21:39:57.889Z"
   },
   {
    "duration": 3,
    "start_time": "2021-11-17T21:39:58.057Z"
   },
   {
    "duration": 3,
    "start_time": "2021-11-17T21:41:20.108Z"
   },
   {
    "duration": 3,
    "start_time": "2021-11-17T21:41:20.629Z"
   },
   {
    "duration": 3,
    "start_time": "2021-11-17T21:42:49.136Z"
   },
   {
    "duration": 3,
    "start_time": "2021-11-17T21:43:15.137Z"
   },
   {
    "duration": 4,
    "start_time": "2021-11-17T21:43:16.766Z"
   },
   {
    "duration": 4,
    "start_time": "2021-11-17T21:43:31.711Z"
   },
   {
    "duration": 3,
    "start_time": "2021-11-17T21:43:36.312Z"
   },
   {
    "duration": 4,
    "start_time": "2021-11-17T21:45:08.825Z"
   },
   {
    "duration": 4,
    "start_time": "2021-11-17T21:45:10.119Z"
   },
   {
    "duration": 4,
    "start_time": "2021-11-17T21:45:13.748Z"
   },
   {
    "duration": 3,
    "start_time": "2021-11-17T21:45:22.219Z"
   },
   {
    "duration": 3,
    "start_time": "2021-11-17T21:45:33.412Z"
   },
   {
    "duration": 2,
    "start_time": "2021-11-17T21:46:01.885Z"
   },
   {
    "duration": 3,
    "start_time": "2021-11-17T21:46:03.628Z"
   },
   {
    "duration": 107,
    "start_time": "2021-11-17T21:47:32.512Z"
   },
   {
    "duration": 103,
    "start_time": "2021-11-17T21:50:36.243Z"
   },
   {
    "duration": 3,
    "start_time": "2021-11-18T06:28:31.440Z"
   },
   {
    "duration": 3,
    "start_time": "2021-11-18T06:29:00.168Z"
   },
   {
    "duration": 3,
    "start_time": "2021-11-18T06:31:27.008Z"
   },
   {
    "duration": 2,
    "start_time": "2021-11-18T06:35:34.288Z"
   },
   {
    "duration": 2,
    "start_time": "2021-11-18T06:38:04.527Z"
   }
  ],
  "colab": {
   "provenance": [],
   "toc_visible": true
  },
  "kernelspec": {
   "display_name": "Python 3 (ipykernel)",
   "language": "python",
   "name": "python3"
  },
  "language_info": {
   "codemirror_mode": {
    "name": "ipython",
    "version": 3
   },
   "file_extension": ".py",
   "mimetype": "text/x-python",
   "name": "python",
   "nbconvert_exporter": "python",
   "pygments_lexer": "ipython3",
   "version": "3.9.19"
  },
  "toc": {
   "base_numbering": 1,
   "nav_menu": {},
   "number_sections": true,
   "sideBar": true,
   "skip_h1_title": false,
   "title_cell": "Table of Contents",
   "title_sidebar": "Contents",
   "toc_cell": false,
   "toc_position": {
    "height": "calc(100% - 180px)",
    "left": "10px",
    "top": "150px",
    "width": "291.675px"
   },
   "toc_section_display": true,
   "toc_window_display": true
  }
 },
 "nbformat": 4,
 "nbformat_minor": 1
}
